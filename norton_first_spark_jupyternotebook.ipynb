{
 "cells": [
  {
   "cell_type": "code",
   "execution_count": 189,
   "metadata": {},
   "outputs": [
    {
     "data": {
      "text/html": [
       "\n",
       "        <div>\n",
       "            <p><b>SparkContext</b></p>\n",
       "\n",
       "            <p><a href=\"http://zipcodes-mbp.home:4040\">Spark UI</a></p>\n",
       "\n",
       "            <dl>\n",
       "              <dt>Version</dt>\n",
       "                <dd><code>v2.4.5</code></dd>\n",
       "              <dt>Master</dt>\n",
       "                <dd><code>local[*]</code></dd>\n",
       "              <dt>AppName</dt>\n",
       "                <dd><code>PySparkShell</code></dd>\n",
       "            </dl>\n",
       "        </div>\n",
       "        "
      ],
      "text/plain": [
       "<SparkContext master=local[*] appName=PySparkShell>"
      ]
     },
     "execution_count": 189,
     "metadata": {},
     "output_type": "execute_result"
    }
   ],
   "source": [
    "sc"
   ]
  },
  {
   "cell_type": "code",
   "execution_count": 190,
   "metadata": {},
   "outputs": [
    {
     "name": "stdout",
     "output_type": "stream",
     "text": [
      "3.14163624\n"
     ]
    }
   ],
   "source": [
    "import random\n",
    "num_samples = 100000000\n",
    "\n",
    "def inside(p):     \n",
    "  x, y = random.random(), random.random()\n",
    "  return x*x + y*y < 1\n",
    "\n",
    "count = sc.parallelize(range(0, num_samples)).filter(inside).count()\n",
    "\n",
    "pi = 4 * count / num_samples\n",
    "print(pi)\n",
    "\n",
    "sc.stop()"
   ]
  },
  {
   "cell_type": "code",
   "execution_count": 11,
   "metadata": {},
   "outputs": [
    {
     "name": "stdout",
     "output_type": "stream",
     "text": [
      "Hello world!\n"
     ]
    }
   ],
   "source": [
    "print('Hello world!')"
   ]
  },
  {
   "cell_type": "code",
   "execution_count": 12,
   "metadata": {},
   "outputs": [],
   "source": [
    "import pandas as pd"
   ]
  },
  {
   "cell_type": "code",
   "execution_count": 13,
   "metadata": {},
   "outputs": [],
   "source": [
    "# Lecture 2 , date 4/14/2020"
   ]
  },
  {
   "cell_type": "code",
   "execution_count": 23,
   "metadata": {},
   "outputs": [],
   "source": [
    "from pyspark.sql.types import Row\n",
    "from datetime import datetime"
   ]
  },
  {
   "cell_type": "code",
   "execution_count": 24,
   "metadata": {},
   "outputs": [
    {
     "data": {
      "text/plain": [
       "ParallelCollectionRDD[36] at parallelize at PythonRDD.scala:195"
      ]
     },
     "execution_count": 24,
     "metadata": {},
     "output_type": "execute_result"
    }
   ],
   "source": [
    "simple_data = sc.parallelize([1, \"alice\", 50])\n",
    "simple_data"
   ]
  },
  {
   "cell_type": "code",
   "execution_count": 25,
   "metadata": {},
   "outputs": [
    {
     "data": {
      "text/plain": [
       "3"
      ]
     },
     "execution_count": 25,
     "metadata": {},
     "output_type": "execute_result"
    }
   ],
   "source": [
    "simple_data.count()"
   ]
  },
  {
   "cell_type": "code",
   "execution_count": 26,
   "metadata": {},
   "outputs": [
    {
     "data": {
      "text/plain": [
       "1"
      ]
     },
     "execution_count": 26,
     "metadata": {},
     "output_type": "execute_result"
    }
   ],
   "source": [
    "simple_data.first()"
   ]
  },
  {
   "cell_type": "code",
   "execution_count": 27,
   "metadata": {},
   "outputs": [
    {
     "data": {
      "text/plain": [
       "[1, 'alice']"
      ]
     },
     "execution_count": 27,
     "metadata": {},
     "output_type": "execute_result"
    }
   ],
   "source": [
    "simple_data.take(2)"
   ]
  },
  {
   "cell_type": "code",
   "execution_count": 28,
   "metadata": {},
   "outputs": [
    {
     "data": {
      "text/plain": [
       "[1, 'alice', 50]"
      ]
     },
     "execution_count": 28,
     "metadata": {},
     "output_type": "execute_result"
    }
   ],
   "source": [
    "simple_data.collect()"
   ]
  },
  {
   "cell_type": "code",
   "execution_count": 29,
   "metadata": {},
   "outputs": [
    {
     "data": {
      "text/plain": [
       "ParallelCollectionRDD[42] at parallelize at PythonRDD.scala:195"
      ]
     },
     "execution_count": 29,
     "metadata": {},
     "output_type": "execute_result"
    }
   ],
   "source": [
    "records = sc.parallelize([[1, \"Alice\", 50], [2, \"Bob\", 100]])\n",
    "records"
   ]
  },
  {
   "cell_type": "code",
   "execution_count": 30,
   "metadata": {},
   "outputs": [
    {
     "data": {
      "text/plain": [
       "[[1, 'Alice', 50], [2, 'Bob', 100]]"
      ]
     },
     "execution_count": 30,
     "metadata": {},
     "output_type": "execute_result"
    }
   ],
   "source": [
    "records.collect()"
   ]
  },
  {
   "cell_type": "code",
   "execution_count": 31,
   "metadata": {},
   "outputs": [
    {
     "data": {
      "text/plain": [
       "2"
      ]
     },
     "execution_count": 31,
     "metadata": {},
     "output_type": "execute_result"
    }
   ],
   "source": [
    "records.count()"
   ]
  },
  {
   "cell_type": "code",
   "execution_count": 32,
   "metadata": {},
   "outputs": [
    {
     "data": {
      "text/plain": [
       "[1, 'Alice', 50]"
      ]
     },
     "execution_count": 32,
     "metadata": {},
     "output_type": "execute_result"
    }
   ],
   "source": [
    "records.first()"
   ]
  },
  {
   "cell_type": "code",
   "execution_count": 33,
   "metadata": {},
   "outputs": [
    {
     "data": {
      "text/plain": [
       "[[1, 'Alice', 50], [2, 'Bob', 100]]"
      ]
     },
     "execution_count": 33,
     "metadata": {},
     "output_type": "execute_result"
    }
   ],
   "source": [
    "records.take(2)"
   ]
  },
  {
   "cell_type": "code",
   "execution_count": 34,
   "metadata": {},
   "outputs": [],
   "source": [
    "df = records.toDF()"
   ]
  },
  {
   "cell_type": "code",
   "execution_count": 35,
   "metadata": {},
   "outputs": [
    {
     "data": {
      "text/plain": [
       "DataFrame[_1: bigint, _2: string, _3: bigint]"
      ]
     },
     "execution_count": 35,
     "metadata": {},
     "output_type": "execute_result"
    }
   ],
   "source": [
    "df"
   ]
  },
  {
   "cell_type": "code",
   "execution_count": 36,
   "metadata": {},
   "outputs": [
    {
     "name": "stdout",
     "output_type": "stream",
     "text": [
      "+---+-----+---+\n",
      "| _1|   _2| _3|\n",
      "+---+-----+---+\n",
      "|  1|Alice| 50|\n",
      "|  2|  Bob|100|\n",
      "+---+-----+---+\n",
      "\n"
     ]
    }
   ],
   "source": [
    "df.show()"
   ]
  },
  {
   "cell_type": "code",
   "execution_count": 37,
   "metadata": {},
   "outputs": [
    {
     "name": "stdout",
     "output_type": "stream",
     "text": [
      "+---+-----+---+\n",
      "| _1|   _2| _3|\n",
      "+---+-----+---+\n",
      "|  1|Alice| 50|\n",
      "+---+-----+---+\n",
      "only showing top 1 row\n",
      "\n"
     ]
    }
   ],
   "source": [
    "df.show(1)"
   ]
  },
  {
   "cell_type": "code",
   "execution_count": 38,
   "metadata": {},
   "outputs": [
    {
     "data": {
      "text/plain": [
       "ParallelCollectionRDD[62] at parallelize at PythonRDD.scala:195"
      ]
     },
     "execution_count": 38,
     "metadata": {},
     "output_type": "execute_result"
    }
   ],
   "source": [
    "data = sc.parallelize([Row(id=1,\n",
    "                          name=\"Alice\",\n",
    "                          score=50)])\n",
    "data"
   ]
  },
  {
   "cell_type": "code",
   "execution_count": 39,
   "metadata": {},
   "outputs": [
    {
     "data": {
      "text/plain": [
       "[Row(id=1, name='Alice', score=50)]"
      ]
     },
     "execution_count": 39,
     "metadata": {},
     "output_type": "execute_result"
    }
   ],
   "source": [
    "data.collect()"
   ]
  },
  {
   "cell_type": "code",
   "execution_count": 41,
   "metadata": {},
   "outputs": [
    {
     "data": {
      "text/plain": [
       "1"
      ]
     },
     "execution_count": 41,
     "metadata": {},
     "output_type": "execute_result"
    }
   ],
   "source": [
    "data.count()"
   ]
  },
  {
   "cell_type": "code",
   "execution_count": 43,
   "metadata": {},
   "outputs": [
    {
     "name": "stdout",
     "output_type": "stream",
     "text": [
      "+---+-----+-----+\n",
      "| id| name|score|\n",
      "+---+-----+-----+\n",
      "|  1|Alice|   50|\n",
      "+---+-----+-----+\n",
      "\n"
     ]
    }
   ],
   "source": [
    "df = data.toDF()\n",
    "df.show()"
   ]
  },
  {
   "cell_type": "code",
   "execution_count": 45,
   "metadata": {},
   "outputs": [
    {
     "data": {
      "text/plain": [
       "ParallelCollectionRDD[81] at parallelize at PythonRDD.scala:195"
      ]
     },
     "execution_count": 45,
     "metadata": {},
     "output_type": "execute_result"
    }
   ],
   "source": [
    "data = sc.parallelize([Row(id=1,\n",
    "                          name=\"Alice\",\n",
    "                        score=50),\n",
    "                       Row(id=2,\n",
    "                          name=\"Bob\",\n",
    "                        score=100),\n",
    "                       Row(id=3,\n",
    "                          name=\"Charlee\",\n",
    "                          score=150)])\n",
    "data"
   ]
  },
  {
   "cell_type": "code",
   "execution_count": 48,
   "metadata": {},
   "outputs": [
    {
     "name": "stdout",
     "output_type": "stream",
     "text": [
      "+---+-------+-----+\n",
      "| id|   name|score|\n",
      "+---+-------+-----+\n",
      "|  1|  Alice|   50|\n",
      "|  2|    Bob|  100|\n",
      "|  3|Charlee|  150|\n",
      "+---+-------+-----+\n",
      "\n"
     ]
    }
   ],
   "source": [
    "df =data.toDF()\n",
    "df.show()"
   ]
  },
  {
   "cell_type": "code",
   "execution_count": 49,
   "metadata": {},
   "outputs": [],
   "source": [
    "complex_data = sc.parallelize([Row(\n",
    "                                col_float=1.44,\n",
    "                                col_integer=10,\n",
    "                                col_string=\"John\")])"
   ]
  },
  {
   "cell_type": "code",
   "execution_count": 50,
   "metadata": {},
   "outputs": [
    {
     "name": "stdout",
     "output_type": "stream",
     "text": [
      "+---------+-----------+----------+\n",
      "|col_float|col_integer|col_string|\n",
      "+---------+-----------+----------+\n",
      "|     1.44|         10|      John|\n",
      "+---------+-----------+----------+\n",
      "\n"
     ]
    }
   ],
   "source": [
    "complex_data_df = complex_data.toDF()\n",
    "complex_data_df.show()"
   ]
  },
  {
   "cell_type": "code",
   "execution_count": 51,
   "metadata": {},
   "outputs": [],
   "source": [
    "complex_data = sc.parallelize([Row(\n",
    "                                col_float = 1.44,\n",
    "                                col_integer = 10,\n",
    "                                col_string = \"John\",\n",
    "                                col_boolean = True,\n",
    "                                col_list = [1, 2, 3])])"
   ]
  },
  {
   "cell_type": "code",
   "execution_count": 53,
   "metadata": {},
   "outputs": [
    {
     "name": "stdout",
     "output_type": "stream",
     "text": [
      "+-----------+---------+-----------+---------+----------+\n",
      "|col_boolean|col_float|col_integer| col_list|col_string|\n",
      "+-----------+---------+-----------+---------+----------+\n",
      "|       true|     1.44|         10|[1, 2, 3]|      John|\n",
      "+-----------+---------+-----------+---------+----------+\n",
      "\n"
     ]
    }
   ],
   "source": [
    "complex_data_df = complex_data.toDF()\n",
    "complex_data_df.show()"
   ]
  },
  {
   "cell_type": "code",
   "execution_count": 59,
   "metadata": {},
   "outputs": [],
   "source": [
    "complex_data = sc.parallelize([Row(\n",
    "                                col_list=[1,2,3],\n",
    "                                col_dic={\"k1\":0},\n",
    "                                col_row=Row(a=10, b=20, c=30),\n",
    "                                col_time=datetime(2014,8,1,14,1,5)),\n",
    "                                Row(\n",
    "                                col_list=[1,2,3,4,5],\n",
    "                                col_dic={\"k1\":0, \"k2\":1},\n",
    "                                col_row=Row(a=40, b=50, c=60),\n",
    "                                col_time=datetime(2014,8,1,14,1,6)),\n",
    "                                Row(\n",
    "                                col_list=[1,2,3,4,5,6,7,8,9],\n",
    "                                col_dic={\"k1\":0, \"k2\":1, \"k3\":2},\n",
    "                                col_row=Row(a=70, b=80, c=90),\n",
    "                                col_time=datetime(2014,8,1,14,1,7)\n",
    "                                )])"
   ]
  },
  {
   "cell_type": "code",
   "execution_count": 61,
   "metadata": {},
   "outputs": [
    {
     "name": "stdout",
     "output_type": "stream",
     "text": [
      "+--------------------+--------------------+------------+-------------------+\n",
      "|             col_dic|            col_list|     col_row|           col_time|\n",
      "+--------------------+--------------------+------------+-------------------+\n",
      "|           [k1 -> 0]|           [1, 2, 3]|[10, 20, 30]|2014-08-01 14:01:05|\n",
      "|  [k1 -> 0, k2 -> 1]|     [1, 2, 3, 4, 5]|[40, 50, 60]|2014-08-01 14:01:06|\n",
      "|[k3 -> 2, k1 -> 0...|[1, 2, 3, 4, 5, 6...|[70, 80, 90]|2014-08-01 14:01:07|\n",
      "+--------------------+--------------------+------------+-------------------+\n",
      "\n"
     ]
    }
   ],
   "source": [
    "complex_data_df = complex_data.toDF()\n",
    "complex_data_df.show()"
   ]
  },
  {
   "cell_type": "code",
   "execution_count": 130,
   "metadata": {},
   "outputs": [
    {
     "data": {
      "text/plain": [
       "<pyspark.sql.context.SQLContext at 0x119d19190>"
      ]
     },
     "execution_count": 130,
     "metadata": {},
     "output_type": "execute_result"
    }
   ],
   "source": [
    "sqlContext=SQLContext(sc)\n",
    "sqlContext"
   ]
  },
  {
   "cell_type": "code",
   "execution_count": 131,
   "metadata": {},
   "outputs": [
    {
     "data": {
      "text/plain": [
       "DataFrame[id: bigint]"
      ]
     },
     "execution_count": 131,
     "metadata": {},
     "output_type": "execute_result"
    }
   ],
   "source": [
    "df = sqlContext.range(5)\n",
    "df"
   ]
  },
  {
   "cell_type": "code",
   "execution_count": 132,
   "metadata": {},
   "outputs": [
    {
     "data": {
      "text/plain": [
       "5"
      ]
     },
     "execution_count": 132,
     "metadata": {},
     "output_type": "execute_result"
    }
   ],
   "source": [
    "df.count()"
   ]
  },
  {
   "cell_type": "code",
   "execution_count": 133,
   "metadata": {},
   "outputs": [
    {
     "name": "stdout",
     "output_type": "stream",
     "text": [
      "+---+\n",
      "| id|\n",
      "+---+\n",
      "|  0|\n",
      "|  1|\n",
      "|  2|\n",
      "|  3|\n",
      "|  4|\n",
      "+---+\n",
      "\n"
     ]
    }
   ],
   "source": [
    "df.show()"
   ]
  },
  {
   "cell_type": "code",
   "execution_count": 134,
   "metadata": {},
   "outputs": [],
   "source": [
    "data = [('Alice', 50),\n",
    "       ('Bob', 80),\n",
    "       ('Charlee', 75)]"
   ]
  },
  {
   "cell_type": "code",
   "execution_count": 135,
   "metadata": {},
   "outputs": [
    {
     "name": "stdout",
     "output_type": "stream",
     "text": [
      "+-------+---+\n",
      "|     _1| _2|\n",
      "+-------+---+\n",
      "|  Alice| 50|\n",
      "|    Bob| 80|\n",
      "|Charlee| 75|\n",
      "+-------+---+\n",
      "\n"
     ]
    }
   ],
   "source": [
    "sqlContext.createDataFrame(data).show()"
   ]
  },
  {
   "cell_type": "code",
   "execution_count": 136,
   "metadata": {},
   "outputs": [],
   "source": [
    "complex_data = [\n",
    "                (1.0,\n",
    "                10,\n",
    "                \"Alice\",\n",
    "                True,\n",
    "                [1,2,3],\n",
    "                {'k1':0},\n",
    "                Row(a=1, b=2, c=3),\n",
    "                datetime(2014,8,1, 14,1,5)),\n",
    "                \n",
    "                (2.0,\n",
    "                20,\n",
    "                \"Bob\",\n",
    "                True,\n",
    "                [1,2,3,4,5],\n",
    "                {'k1':0, 'k2':1},\n",
    "                Row(a=1, b=2, c=3),\n",
    "                datetime(2014,8,1, 14,1,5)),\n",
    "    \n",
    "                (3.0,\n",
    "                30,\n",
    "                \"Charlee\",\n",
    "                False,\n",
    "                [1,2,3,4,5,6,7],\n",
    "                {'k1':0, 'k2':1, 'k3':2},\n",
    "                Row(a=1, b=2, c=3),\n",
    "                datetime(2014,8,1, 14,1,5)),\n",
    "]"
   ]
  },
  {
   "cell_type": "code",
   "execution_count": 137,
   "metadata": {},
   "outputs": [
    {
     "name": "stdout",
     "output_type": "stream",
     "text": [
      "+---+---+-------+-----+--------------------+--------------------+---------+-------------------+\n",
      "| _1| _2|     _3|   _4|                  _5|                  _6|       _7|                 _8|\n",
      "+---+---+-------+-----+--------------------+--------------------+---------+-------------------+\n",
      "|1.0| 10|  Alice| true|           [1, 2, 3]|           [k1 -> 0]|[1, 2, 3]|2014-08-01 14:01:05|\n",
      "|2.0| 20|    Bob| true|     [1, 2, 3, 4, 5]|  [k1 -> 0, k2 -> 1]|[1, 2, 3]|2014-08-01 14:01:05|\n",
      "|3.0| 30|Charlee|false|[1, 2, 3, 4, 5, 6...|[k3 -> 2, k1 -> 0...|[1, 2, 3]|2014-08-01 14:01:05|\n",
      "+---+---+-------+-----+--------------------+--------------------+---------+-------------------+\n",
      "\n"
     ]
    }
   ],
   "source": [
    "sqlContext.createDataFrame(complex_data).show()"
   ]
  },
  {
   "cell_type": "code",
   "execution_count": 154,
   "metadata": {},
   "outputs": [
    {
     "name": "stdout",
     "output_type": "stream",
     "text": [
      "+-----------+---------+----------+-----------+--------------------+--------------------+---------+-------------------+\n",
      "|col_integer|col_float|col_string|col_boolean|            col_list|      col_dictionary|  col_row|      col_date_time|\n",
      "+-----------+---------+----------+-----------+--------------------+--------------------+---------+-------------------+\n",
      "|        1.0|       10|     Alice|       true|           [1, 2, 3]|           [k1 -> 0]|[1, 2, 3]|2014-08-01 14:01:05|\n",
      "|        2.0|       20|       Bob|       true|     [1, 2, 3, 4, 5]|  [k1 -> 0, k2 -> 1]|[1, 2, 3]|2014-08-01 14:01:05|\n",
      "|        3.0|       30|   Charlee|      false|[1, 2, 3, 4, 5, 6...|[k3 -> 2, k1 -> 0...|[1, 2, 3]|2014-08-01 14:01:05|\n",
      "+-----------+---------+----------+-----------+--------------------+--------------------+---------+-------------------+\n",
      "\n"
     ]
    }
   ],
   "source": [
    "complex_data_df = sqlContext.createDataFrame(complex_data,[\n",
    "    'col_integer',\n",
    "    'col_float',\n",
    "    'col_string',\n",
    "    'col_boolean',\n",
    "    'col_list',\n",
    "    'col_dictionary',\n",
    "    'col_row',\n",
    "    'col_date_time'\n",
    "])\n",
    "complex_data_df.show()"
   ]
  },
  {
   "cell_type": "code",
   "execution_count": 155,
   "metadata": {},
   "outputs": [],
   "source": [
    "data = sc.parallelize([\n",
    "    Row(1, 'Alice', 50),\n",
    "    Row(2, 'Bob', 100),\n",
    "    Row(3, 'Charlee', 150)\n",
    "])"
   ]
  },
  {
   "cell_type": "code",
   "execution_count": 156,
   "metadata": {},
   "outputs": [],
   "source": [
    "column_names = Row('id', 'name', 'score')\n",
    "students = data.map(lambda r: column_names(*r))"
   ]
  },
  {
   "cell_type": "code",
   "execution_count": 157,
   "metadata": {},
   "outputs": [
    {
     "data": {
      "text/plain": [
       "PythonRDD[369] at RDD at PythonRDD.scala:53"
      ]
     },
     "execution_count": 157,
     "metadata": {},
     "output_type": "execute_result"
    }
   ],
   "source": [
    "students"
   ]
  },
  {
   "cell_type": "code",
   "execution_count": 158,
   "metadata": {},
   "outputs": [
    {
     "data": {
      "text/plain": [
       "[Row(id=1, name='Alice', score=50),\n",
       " Row(id=2, name='Bob', score=100),\n",
       " Row(id=3, name='Charlee', score=150)]"
      ]
     },
     "execution_count": 158,
     "metadata": {},
     "output_type": "execute_result"
    }
   ],
   "source": [
    "students.collect()"
   ]
  },
  {
   "cell_type": "code",
   "execution_count": 159,
   "metadata": {},
   "outputs": [
    {
     "data": {
      "text/plain": [
       "DataFrame[id: bigint, name: string, score: bigint]"
      ]
     },
     "execution_count": 159,
     "metadata": {},
     "output_type": "execute_result"
    }
   ],
   "source": [
    "students_df = sqlContext.createDataFrame(students)\n",
    "students_df"
   ]
  },
  {
   "cell_type": "code",
   "execution_count": 160,
   "metadata": {},
   "outputs": [
    {
     "name": "stdout",
     "output_type": "stream",
     "text": [
      "+---+-------+-----+\n",
      "| id|   name|score|\n",
      "+---+-------+-----+\n",
      "|  1|  Alice|   50|\n",
      "|  2|    Bob|  100|\n",
      "|  3|Charlee|  150|\n",
      "+---+-------+-----+\n",
      "\n"
     ]
    }
   ],
   "source": [
    "students_df.show()"
   ]
  },
  {
   "cell_type": "code",
   "execution_count": 161,
   "metadata": {},
   "outputs": [
    {
     "data": {
      "text/plain": [
       "Row(col_integer=1.0, col_float=10, col_string='Alice', col_boolean=True, col_list=[1, 2, 3], col_dictionary={'k1': 0}, col_row=Row(a=1, b=2, c=3), col_date_time=datetime.datetime(2014, 8, 1, 14, 1, 5))"
      ]
     },
     "execution_count": 161,
     "metadata": {},
     "output_type": "execute_result"
    }
   ],
   "source": [
    "complex_data_df.first()"
   ]
  },
  {
   "cell_type": "code",
   "execution_count": 162,
   "metadata": {},
   "outputs": [
    {
     "data": {
      "text/plain": [
       "[Row(col_integer=1.0, col_float=10, col_string='Alice', col_boolean=True, col_list=[1, 2, 3], col_dictionary={'k1': 0}, col_row=Row(a=1, b=2, c=3), col_date_time=datetime.datetime(2014, 8, 1, 14, 1, 5)),\n",
       " Row(col_integer=2.0, col_float=20, col_string='Bob', col_boolean=True, col_list=[1, 2, 3, 4, 5], col_dictionary={'k1': 0, 'k2': 1}, col_row=Row(a=1, b=2, c=3), col_date_time=datetime.datetime(2014, 8, 1, 14, 1, 5))]"
      ]
     },
     "execution_count": 162,
     "metadata": {},
     "output_type": "execute_result"
    }
   ],
   "source": [
    "complex_data_df.take(2)"
   ]
  },
  {
   "cell_type": "code",
   "execution_count": 163,
   "metadata": {},
   "outputs": [
    {
     "data": {
      "text/plain": [
       "'Alice'"
      ]
     },
     "execution_count": 163,
     "metadata": {},
     "output_type": "execute_result"
    }
   ],
   "source": [
    "cell_string = complex_data_df.collect()[0][2]\n",
    "cell_string"
   ]
  },
  {
   "cell_type": "code",
   "execution_count": 164,
   "metadata": {},
   "outputs": [
    {
     "data": {
      "text/plain": [
       "[1, 2, 3]"
      ]
     },
     "execution_count": 164,
     "metadata": {},
     "output_type": "execute_result"
    }
   ],
   "source": [
    "cell_list = complex_data_df.collect()[0][4]\n",
    "cell_list"
   ]
  },
  {
   "cell_type": "code",
   "execution_count": 165,
   "metadata": {},
   "outputs": [
    {
     "data": {
      "text/plain": [
       "list"
      ]
     },
     "execution_count": 165,
     "metadata": {},
     "output_type": "execute_result"
    }
   ],
   "source": [
    "type(cell_list)"
   ]
  },
  {
   "cell_type": "code",
   "execution_count": 166,
   "metadata": {},
   "outputs": [
    {
     "data": {
      "text/plain": [
       "[1, 2, 3, 100]"
      ]
     },
     "execution_count": 166,
     "metadata": {},
     "output_type": "execute_result"
    }
   ],
   "source": [
    "cell_list.append(100)\n",
    "cell_list"
   ]
  },
  {
   "cell_type": "code",
   "execution_count": 167,
   "metadata": {},
   "outputs": [
    {
     "name": "stdout",
     "output_type": "stream",
     "text": [
      "+-----------+---------+----------+-----------+--------------------+--------------------+---------+-------------------+\n",
      "|col_integer|col_float|col_string|col_boolean|            col_list|      col_dictionary|  col_row|      col_date_time|\n",
      "+-----------+---------+----------+-----------+--------------------+--------------------+---------+-------------------+\n",
      "|        1.0|       10|     Alice|       true|           [1, 2, 3]|           [k1 -> 0]|[1, 2, 3]|2014-08-01 14:01:05|\n",
      "|        2.0|       20|       Bob|       true|     [1, 2, 3, 4, 5]|  [k1 -> 0, k2 -> 1]|[1, 2, 3]|2014-08-01 14:01:05|\n",
      "|        3.0|       30|   Charlee|      false|[1, 2, 3, 4, 5, 6...|[k3 -> 2, k1 -> 0...|[1, 2, 3]|2014-08-01 14:01:05|\n",
      "+-----------+---------+----------+-----------+--------------------+--------------------+---------+-------------------+\n",
      "\n"
     ]
    }
   ],
   "source": [
    "complex_data_df.show()"
   ]
  },
  {
   "cell_type": "code",
   "execution_count": 168,
   "metadata": {},
   "outputs": [
    {
     "data": {
      "text/plain": [
       "[('Alice', {'k1': 0}),\n",
       " ('Bob', {'k1': 0, 'k2': 1}),\n",
       " ('Charlee', {'k3': 2, 'k1': 0, 'k2': 1})]"
      ]
     },
     "execution_count": 168,
     "metadata": {},
     "output_type": "execute_result"
    }
   ],
   "source": [
    "complex_data_df.rdd\\\n",
    "                .map(lambda x: (x.col_string, x.col_dictionary))\\\n",
    "                .collect()"
   ]
  },
  {
   "cell_type": "code",
   "execution_count": 169,
   "metadata": {},
   "outputs": [
    {
     "name": "stdout",
     "output_type": "stream",
     "text": [
      "+----------+--------------------+-------------------+\n",
      "|col_string|            col_list|      col_date_time|\n",
      "+----------+--------------------+-------------------+\n",
      "|     Alice|           [1, 2, 3]|2014-08-01 14:01:05|\n",
      "|       Bob|     [1, 2, 3, 4, 5]|2014-08-01 14:01:05|\n",
      "|   Charlee|[1, 2, 3, 4, 5, 6...|2014-08-01 14:01:05|\n",
      "+----------+--------------------+-------------------+\n",
      "\n"
     ]
    }
   ],
   "source": [
    "complex_data_df.select(\n",
    "    'col_string',\n",
    "    'col_list',\n",
    "    'col_date_time'\n",
    ").show()"
   ]
  },
  {
   "cell_type": "code",
   "execution_count": 170,
   "metadata": {},
   "outputs": [
    {
     "data": {
      "text/plain": [
       "['Alice Boo', 'Bob Boo', 'Charlee Boo']"
      ]
     },
     "execution_count": 170,
     "metadata": {},
     "output_type": "execute_result"
    }
   ],
   "source": [
    "complex_data_df.rdd\\\n",
    "                .map(lambda x: (x.col_string + ' Boo'))\\\n",
    "                .collect()"
   ]
  },
  {
   "cell_type": "code",
   "execution_count": 171,
   "metadata": {},
   "outputs": [
    {
     "name": "stdout",
     "output_type": "stream",
     "text": [
      "+-----------+---------+-------+\n",
      "|col_integer|col_float|col_sum|\n",
      "+-----------+---------+-------+\n",
      "|        1.0|       10|   11.0|\n",
      "|        2.0|       20|   22.0|\n",
      "|        3.0|       30|   33.0|\n",
      "+-----------+---------+-------+\n",
      "\n"
     ]
    }
   ],
   "source": [
    "complex_data_df.select(\n",
    "    'col_integer',\n",
    "    'col_float',\n",
    "    )\\\n",
    "    .withColumn(\n",
    "    'col_sum',\n",
    "    complex_data_df.col_integer + complex_data_df.col_float\n",
    "    )\\\n",
    "    .show()"
   ]
  },
  {
   "cell_type": "code",
   "execution_count": 173,
   "metadata": {},
   "outputs": [
    {
     "name": "stdout",
     "output_type": "stream",
     "text": [
      "+-----------+------------+\n",
      "|col_boolean|col_opposite|\n",
      "+-----------+------------+\n",
      "|       true|       false|\n",
      "|       true|       false|\n",
      "|      false|        true|\n",
      "+-----------+------------+\n",
      "\n"
     ]
    }
   ],
   "source": [
    "complex_data_df.select('col_boolean')\\\n",
    "                .withColumn(\n",
    "                    'col_opposite',\n",
    "                        complex_data_df.col_boolean == False)\\\n",
    "                    .show()"
   ]
  },
  {
   "cell_type": "code",
   "execution_count": 175,
   "metadata": {},
   "outputs": [
    {
     "name": "stdout",
     "output_type": "stream",
     "text": [
      "+-----------+---------+----------+-----------+--------------------+--------------------+---------+-------------------+\n",
      "|col_integer|col_float|col_string|col_boolean|            col_list|             col_map|  col_row|      col_date_time|\n",
      "+-----------+---------+----------+-----------+--------------------+--------------------+---------+-------------------+\n",
      "|        1.0|       10|     Alice|       true|           [1, 2, 3]|           [k1 -> 0]|[1, 2, 3]|2014-08-01 14:01:05|\n",
      "|        2.0|       20|       Bob|       true|     [1, 2, 3, 4, 5]|  [k1 -> 0, k2 -> 1]|[1, 2, 3]|2014-08-01 14:01:05|\n",
      "|        3.0|       30|   Charlee|      false|[1, 2, 3, 4, 5, 6...|[k3 -> 2, k1 -> 0...|[1, 2, 3]|2014-08-01 14:01:05|\n",
      "+-----------+---------+----------+-----------+--------------------+--------------------+---------+-------------------+\n",
      "\n"
     ]
    }
   ],
   "source": [
    "complex_data_df.withColumnRenamed('col_dictionary', 'col_map').show()"
   ]
  },
  {
   "cell_type": "code",
   "execution_count": 176,
   "metadata": {},
   "outputs": [
    {
     "name": "stdout",
     "output_type": "stream",
     "text": [
      "+-------+\n",
      "|   Name|\n",
      "+-------+\n",
      "|  Alice|\n",
      "|    Bob|\n",
      "|Charlee|\n",
      "+-------+\n",
      "\n"
     ]
    }
   ],
   "source": [
    "complex_data_df.select(complex_data_df.col_string.alias('Name')).show()"
   ]
  },
  {
   "cell_type": "code",
   "execution_count": 183,
   "metadata": {},
   "outputs": [],
   "source": [
    "import pandas"
   ]
  },
  {
   "cell_type": "code",
   "execution_count": 184,
   "metadata": {},
   "outputs": [],
   "source": [
    "df_pandas = complex_data_df.toPandas()"
   ]
  },
  {
   "cell_type": "code",
   "execution_count": 185,
   "metadata": {},
   "outputs": [
    {
     "data": {
      "text/html": [
       "<div>\n",
       "<style scoped>\n",
       "    .dataframe tbody tr th:only-of-type {\n",
       "        vertical-align: middle;\n",
       "    }\n",
       "\n",
       "    .dataframe tbody tr th {\n",
       "        vertical-align: top;\n",
       "    }\n",
       "\n",
       "    .dataframe thead th {\n",
       "        text-align: right;\n",
       "    }\n",
       "</style>\n",
       "<table border=\"1\" class=\"dataframe\">\n",
       "  <thead>\n",
       "    <tr style=\"text-align: right;\">\n",
       "      <th></th>\n",
       "      <th>col_integer</th>\n",
       "      <th>col_float</th>\n",
       "      <th>col_string</th>\n",
       "      <th>col_boolean</th>\n",
       "      <th>col_list</th>\n",
       "      <th>col_dictionary</th>\n",
       "      <th>col_row</th>\n",
       "      <th>col_date_time</th>\n",
       "    </tr>\n",
       "  </thead>\n",
       "  <tbody>\n",
       "    <tr>\n",
       "      <th>0</th>\n",
       "      <td>1.0</td>\n",
       "      <td>10</td>\n",
       "      <td>Alice</td>\n",
       "      <td>True</td>\n",
       "      <td>[1, 2, 3]</td>\n",
       "      <td>{'k1': 0}</td>\n",
       "      <td>(1, 2, 3)</td>\n",
       "      <td>2014-08-01 14:01:05</td>\n",
       "    </tr>\n",
       "    <tr>\n",
       "      <th>1</th>\n",
       "      <td>2.0</td>\n",
       "      <td>20</td>\n",
       "      <td>Bob</td>\n",
       "      <td>True</td>\n",
       "      <td>[1, 2, 3, 4, 5]</td>\n",
       "      <td>{'k1': 0, 'k2': 1}</td>\n",
       "      <td>(1, 2, 3)</td>\n",
       "      <td>2014-08-01 14:01:05</td>\n",
       "    </tr>\n",
       "    <tr>\n",
       "      <th>2</th>\n",
       "      <td>3.0</td>\n",
       "      <td>30</td>\n",
       "      <td>Charlee</td>\n",
       "      <td>False</td>\n",
       "      <td>[1, 2, 3, 4, 5, 6, 7]</td>\n",
       "      <td>{'k3': 2, 'k1': 0, 'k2': 1}</td>\n",
       "      <td>(1, 2, 3)</td>\n",
       "      <td>2014-08-01 14:01:05</td>\n",
       "    </tr>\n",
       "  </tbody>\n",
       "</table>\n",
       "</div>"
      ],
      "text/plain": [
       "   col_integer  col_float col_string  col_boolean               col_list  \\\n",
       "0          1.0         10      Alice         True              [1, 2, 3]   \n",
       "1          2.0         20        Bob         True        [1, 2, 3, 4, 5]   \n",
       "2          3.0         30    Charlee        False  [1, 2, 3, 4, 5, 6, 7]   \n",
       "\n",
       "                col_dictionary    col_row       col_date_time  \n",
       "0                    {'k1': 0}  (1, 2, 3) 2014-08-01 14:01:05  \n",
       "1           {'k1': 0, 'k2': 1}  (1, 2, 3) 2014-08-01 14:01:05  \n",
       "2  {'k3': 2, 'k1': 0, 'k2': 1}  (1, 2, 3) 2014-08-01 14:01:05  "
      ]
     },
     "execution_count": 185,
     "metadata": {},
     "output_type": "execute_result"
    }
   ],
   "source": [
    "df_pandas"
   ]
  },
  {
   "cell_type": "code",
   "execution_count": 186,
   "metadata": {},
   "outputs": [
    {
     "name": "stdout",
     "output_type": "stream",
     "text": [
      "+-----------+---------+----------+-----------+--------------------+--------------------+---------+-------------------+\n",
      "|col_integer|col_float|col_string|col_boolean|            col_list|      col_dictionary|  col_row|      col_date_time|\n",
      "+-----------+---------+----------+-----------+--------------------+--------------------+---------+-------------------+\n",
      "|        1.0|       10|     Alice|       true|           [1, 2, 3]|           [k1 -> 0]|[1, 2, 3]|2014-08-01 14:01:05|\n",
      "|        2.0|       20|       Bob|       true|     [1, 2, 3, 4, 5]|  [k1 -> 0, k2 -> 1]|[1, 2, 3]|2014-08-01 14:01:05|\n",
      "|        3.0|       30|   Charlee|      false|[1, 2, 3, 4, 5, 6...|[k3 -> 2, k1 -> 0...|[1, 2, 3]|2014-08-01 14:01:05|\n",
      "+-----------+---------+----------+-----------+--------------------+--------------------+---------+-------------------+\n",
      "\n"
     ]
    }
   ],
   "source": [
    "df_spark = sqlContext.createDataFrame(df_pandas)\n",
    "df_spark.show()"
   ]
  },
  {
   "cell_type": "code",
   "execution_count": 187,
   "metadata": {},
   "outputs": [
    {
     "data": {
      "text/plain": [
       "pyspark.sql.dataframe.DataFrame"
      ]
     },
     "execution_count": 187,
     "metadata": {},
     "output_type": "execute_result"
    }
   ],
   "source": [
    "type(df_spark)"
   ]
  },
  {
   "cell_type": "code",
   "execution_count": 188,
   "metadata": {},
   "outputs": [
    {
     "data": {
      "text/plain": [
       "DataFrame[col_integer: double, col_float: bigint, col_string: string, col_boolean: boolean, col_list: array<bigint>, col_dictionary: map<string,bigint>, col_row: struct<a:bigint,b:bigint,c:bigint>, col_date_time: timestamp]"
      ]
     },
     "execution_count": 188,
     "metadata": {},
     "output_type": "execute_result"
    }
   ],
   "source": [
    "df_spark"
   ]
  },
  {
   "cell_type": "code",
   "execution_count": null,
   "metadata": {},
   "outputs": [],
   "source": []
  }
 ],
 "metadata": {
  "kernelspec": {
   "display_name": "Python 3",
   "language": "python",
   "name": "python3"
  },
  "language_info": {
   "codemirror_mode": {
    "name": "ipython",
    "version": 3
   },
   "file_extension": ".py",
   "mimetype": "text/x-python",
   "name": "python",
   "nbconvert_exporter": "python",
   "pygments_lexer": "ipython3",
   "version": "3.7.4"
  }
 },
 "nbformat": 4,
 "nbformat_minor": 2
}
