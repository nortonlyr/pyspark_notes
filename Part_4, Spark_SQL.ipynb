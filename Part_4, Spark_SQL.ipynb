{
 "cells": [
  {
   "cell_type": "code",
   "execution_count": 1,
   "metadata": {},
   "outputs": [],
   "source": [
    "from pyspark.sql import SparkSession"
   ]
  },
  {
   "cell_type": "code",
   "execution_count": 2,
   "metadata": {},
   "outputs": [],
   "source": [
    "spark = SparkSession.builder\\\n",
    "                    .appName('Analying Students')\\\n",
    "                    .getOrCreate()"
   ]
  },
  {
   "cell_type": "code",
   "execution_count": 3,
   "metadata": {},
   "outputs": [],
   "source": [
    "from pyspark.sql.types import Row\n",
    "from datetime import datetime"
   ]
  },
  {
   "cell_type": "code",
   "execution_count": 4,
   "metadata": {},
   "outputs": [],
   "source": [
    "record = sc.parallelize([Row(id=1,\n",
    "                            name='Jill',\n",
    "                            active=True,\n",
    "                            clubs=['chess','hockey'],\n",
    "                            subjects={'math':80, 'english':56},\n",
    "                            enrolled=datetime(2014,8,1 ,14,1,5)),\n",
    "                         Row(id=2,\n",
    "                            name='George',\n",
    "                            active=False,\n",
    "                            clubs=['chess','soccer'],\n",
    "                            subjects={'math':60, 'english':96},\n",
    "                            enrolled=datetime(2015,3,21 ,8,2,5))])"
   ]
  },
  {
   "cell_type": "code",
   "execution_count": 5,
   "metadata": {},
   "outputs": [
    {
     "name": "stdout",
     "output_type": "stream",
     "text": [
      "+---+------+------+---------------+--------------------+-------------------+\n",
      "| id|  name|active|          clubs|            subjects|           enrolled|\n",
      "+---+------+------+---------------+--------------------+-------------------+\n",
      "|  1|  Jill|  true|[chess, hockey]|{english -> 56, m...|2014-08-01 14:01:05|\n",
      "|  2|George| false|[chess, soccer]|{english -> 96, m...|2015-03-21 08:02:05|\n",
      "+---+------+------+---------------+--------------------+-------------------+\n",
      "\n"
     ]
    }
   ],
   "source": [
    "record_df = record.toDF()\n",
    "record_df.show()"
   ]
  },
  {
   "cell_type": "code",
   "execution_count": 6,
   "metadata": {},
   "outputs": [],
   "source": [
    "record_df.createOrReplaceTempView('records')"
   ]
  },
  {
   "cell_type": "code",
   "execution_count": 7,
   "metadata": {},
   "outputs": [
    {
     "name": "stdout",
     "output_type": "stream",
     "text": [
      "+---+------+------+---------------+--------------------+-------------------+\n",
      "| id|  name|active|          clubs|            subjects|           enrolled|\n",
      "+---+------+------+---------------+--------------------+-------------------+\n",
      "|  1|  Jill|  true|[chess, hockey]|{english -> 56, m...|2014-08-01 14:01:05|\n",
      "|  2|George| false|[chess, soccer]|{english -> 96, m...|2015-03-21 08:02:05|\n",
      "+---+------+------+---------------+--------------------+-------------------+\n",
      "\n"
     ]
    }
   ],
   "source": [
    "all_records_df = sqlContext.sql('SELECT * FROM records')\n",
    "all_records_df.show()"
   ]
  },
  {
   "cell_type": "code",
   "execution_count": 8,
   "metadata": {},
   "outputs": [
    {
     "name": "stdout",
     "output_type": "stream",
     "text": [
      "+---+--------+-----------------+\n",
      "| id|clubs[1]|subjects[english]|\n",
      "+---+--------+-----------------+\n",
      "|  1|  hockey|               56|\n",
      "|  2|  soccer|               96|\n",
      "+---+--------+-----------------+\n",
      "\n"
     ]
    }
   ],
   "source": [
    "sqlContext.sql('SELECT id, clubs[1], subjects[\"english\"] FROM records').show()"
   ]
  },
  {
   "cell_type": "code",
   "execution_count": 9,
   "metadata": {},
   "outputs": [
    {
     "name": "stdout",
     "output_type": "stream",
     "text": [
      "+---+------------+\n",
      "| id|(NOT active)|\n",
      "+---+------------+\n",
      "|  1|       false|\n",
      "|  2|        true|\n",
      "+---+------------+\n",
      "\n"
     ]
    }
   ],
   "source": [
    "sqlContext.sql('SELECT id, NOT active FROM records').show()"
   ]
  },
  {
   "cell_type": "code",
   "execution_count": 10,
   "metadata": {},
   "outputs": [
    {
     "name": "stdout",
     "output_type": "stream",
     "text": [
      "+---+------+------+---------------+--------------------+-------------------+\n",
      "| id|  name|active|          clubs|            subjects|           enrolled|\n",
      "+---+------+------+---------------+--------------------+-------------------+\n",
      "|  2|George| false|[chess, soccer]|{english -> 96, m...|2015-03-21 08:02:05|\n",
      "+---+------+------+---------------+--------------------+-------------------+\n",
      "\n"
     ]
    }
   ],
   "source": [
    "sqlContext.sql('SELECT * FROM records WHERE subjects [\"english\"] > 90').show()"
   ]
  },
  {
   "cell_type": "code",
   "execution_count": 11,
   "metadata": {},
   "outputs": [],
   "source": [
    "record_df.createOrReplaceGlobalTempView('global_records')"
   ]
  },
  {
   "cell_type": "code",
   "execution_count": 12,
   "metadata": {},
   "outputs": [
    {
     "name": "stdout",
     "output_type": "stream",
     "text": [
      "+---+------+------+---------------+--------------------+-------------------+\n",
      "| id|  name|active|          clubs|            subjects|           enrolled|\n",
      "+---+------+------+---------------+--------------------+-------------------+\n",
      "|  1|  Jill|  true|[chess, hockey]|{english -> 56, m...|2014-08-01 14:01:05|\n",
      "|  2|George| false|[chess, soccer]|{english -> 96, m...|2015-03-21 08:02:05|\n",
      "+---+------+------+---------------+--------------------+-------------------+\n",
      "\n"
     ]
    }
   ],
   "source": [
    "sqlContext.sql('SELECT * FROM global_temp.global_records').show()"
   ]
  },
  {
   "cell_type": "code",
   "execution_count": 13,
   "metadata": {},
   "outputs": [],
   "source": [
    "record_df.createTempView('global_records')"
   ]
  },
  {
   "cell_type": "code",
   "execution_count": null,
   "metadata": {},
   "outputs": [],
   "source": []
  },
  {
   "cell_type": "code",
   "execution_count": null,
   "metadata": {},
   "outputs": [],
   "source": []
  }
 ],
 "metadata": {
  "kernelspec": {
   "display_name": "Python 3",
   "language": "python",
   "name": "python3"
  },
  "language_info": {
   "codemirror_mode": {
    "name": "ipython",
    "version": 3
   },
   "file_extension": ".py",
   "mimetype": "text/x-python",
   "name": "python",
   "nbconvert_exporter": "python",
   "pygments_lexer": "ipython3",
   "version": "3.8.8"
  }
 },
 "nbformat": 4,
 "nbformat_minor": 2
}
