{
 "cells": [
  {
   "cell_type": "code",
   "execution_count": 1,
   "metadata": {},
   "outputs": [
    {
     "data": {
      "text/html": [
       "\n",
       "        <div>\n",
       "            <p><b>SparkContext</b></p>\n",
       "\n",
       "            <p><a href=\"http://zipcodes-mbp.home:4040\">Spark UI</a></p>\n",
       "\n",
       "            <dl>\n",
       "              <dt>Version</dt>\n",
       "                <dd><code>v2.4.5</code></dd>\n",
       "              <dt>Master</dt>\n",
       "                <dd><code>local[*]</code></dd>\n",
       "              <dt>AppName</dt>\n",
       "                <dd><code>PySparkShell</code></dd>\n",
       "            </dl>\n",
       "        </div>\n",
       "        "
      ],
      "text/plain": [
       "<SparkContext master=local[*] appName=PySparkShell>"
      ]
     },
     "execution_count": 1,
     "metadata": {},
     "output_type": "execute_result"
    }
   ],
   "source": [
    "sc"
   ]
  },
  {
   "cell_type": "code",
   "execution_count": 18,
   "metadata": {},
   "outputs": [],
   "source": [
    "from pyspark.sql import SparkSession\n",
    "import pandas as pd"
   ]
  },
  {
   "cell_type": "code",
   "execution_count": 19,
   "metadata": {},
   "outputs": [],
   "source": [
    "spark = SparkSession.builder\\\n",
    "                    .appName('Lodon Crime Data Analysis')\\\n",
    "                    .getOrCreate()"
   ]
  },
  {
   "cell_type": "code",
   "execution_count": 20,
   "metadata": {},
   "outputs": [],
   "source": [
    "data = spark.read\\\n",
    "            .format('csv')\\\n",
    "            .option('header', 'true')\\\n",
    "            .load('./datasets/london_crime_by_lsoa.csv')"
   ]
  },
  {
   "cell_type": "code",
   "execution_count": 21,
   "metadata": {},
   "outputs": [
    {
     "name": "stdout",
     "output_type": "stream",
     "text": [
      "root\n",
      " |-- lsoa_code: string (nullable = true)\n",
      " |-- borough: string (nullable = true)\n",
      " |-- major_category: string (nullable = true)\n",
      " |-- minor_category: string (nullable = true)\n",
      " |-- value: string (nullable = true)\n",
      " |-- year: string (nullable = true)\n",
      " |-- month: string (nullable = true)\n",
      "\n"
     ]
    }
   ],
   "source": [
    "data.printSchema()"
   ]
  },
  {
   "cell_type": "code",
   "execution_count": 22,
   "metadata": {},
   "outputs": [
    {
     "data": {
      "text/plain": [
       "13490604"
      ]
     },
     "execution_count": 22,
     "metadata": {},
     "output_type": "execute_result"
    }
   ],
   "source": [
    "data.count()"
   ]
  },
  {
   "cell_type": "code",
   "execution_count": 23,
   "metadata": {},
   "outputs": [
    {
     "name": "stdout",
     "output_type": "stream",
     "text": [
      "+---------+----------+--------------------+--------------------+-----+----+-----+\n",
      "|lsoa_code|   borough|      major_category|      minor_category|value|year|month|\n",
      "+---------+----------+--------------------+--------------------+-----+----+-----+\n",
      "|E01001116|   Croydon|            Burglary|Burglary in Other...|    0|2016|   11|\n",
      "|E01001646| Greenwich|Violence Against ...|      Other violence|    0|2016|   11|\n",
      "|E01000677|   Bromley|Violence Against ...|      Other violence|    0|2015|    5|\n",
      "|E01003774| Redbridge|            Burglary|Burglary in Other...|    0|2016|    3|\n",
      "|E01004563|Wandsworth|             Robbery|   Personal Property|    0|2008|    6|\n",
      "+---------+----------+--------------------+--------------------+-----+----+-----+\n",
      "\n"
     ]
    }
   ],
   "source": [
    "data.limit(5).show()"
   ]
  },
  {
   "cell_type": "code",
   "execution_count": 27,
   "metadata": {},
   "outputs": [
    {
     "data": {
      "text/plain": [
       "DataFrame[lsoa_code: string, borough: string, major_category: string, minor_category: string, value: string, year: string, month: string]"
      ]
     },
     "execution_count": 27,
     "metadata": {},
     "output_type": "execute_result"
    }
   ],
   "source": [
    "data.dropna()"
   ]
  },
  {
   "cell_type": "code",
   "execution_count": 28,
   "metadata": {},
   "outputs": [
    {
     "data": {
      "text/plain": [
       "13490604"
      ]
     },
     "execution_count": 28,
     "metadata": {},
     "output_type": "execute_result"
    }
   ],
   "source": [
    "data.count()"
   ]
  },
  {
   "cell_type": "code",
   "execution_count": 30,
   "metadata": {},
   "outputs": [],
   "source": [
    "total_boroughs = data.select('borough')\\\n",
    "                    .distinct()"
   ]
  },
  {
   "cell_type": "code",
   "execution_count": 31,
   "metadata": {},
   "outputs": [
    {
     "name": "stdout",
     "output_type": "stream",
     "text": [
      "+--------------------+\n",
      "|             borough|\n",
      "+--------------------+\n",
      "|             Croydon|\n",
      "|          Wandsworth|\n",
      "|              Bexley|\n",
      "|             Lambeth|\n",
      "|Barking and Dagenham|\n",
      "|              Camden|\n",
      "|           Greenwich|\n",
      "|              Newham|\n",
      "|       Tower Hamlets|\n",
      "|            Hounslow|\n",
      "|              Barnet|\n",
      "|              Harrow|\n",
      "|Kensington and Ch...|\n",
      "|           Islington|\n",
      "|               Brent|\n",
      "|            Haringey|\n",
      "|             Bromley|\n",
      "|              Merton|\n",
      "|         Westminster|\n",
      "|             Hackney|\n",
      "+--------------------+\n",
      "only showing top 20 rows\n",
      "\n"
     ]
    }
   ],
   "source": [
    "total_boroughs.show()"
   ]
  },
  {
   "cell_type": "code",
   "execution_count": 32,
   "metadata": {},
   "outputs": [
    {
     "data": {
      "text/plain": [
       "33"
      ]
     },
     "execution_count": 32,
     "metadata": {},
     "output_type": "execute_result"
    }
   ],
   "source": [
    "total_boroughs.count()"
   ]
  },
  {
   "cell_type": "code",
   "execution_count": 35,
   "metadata": {},
   "outputs": [],
   "source": [
    "hachney_data = data.filter(data['borough'] == 'Hackney')"
   ]
  },
  {
   "cell_type": "code",
   "execution_count": 36,
   "metadata": {},
   "outputs": [
    {
     "name": "stdout",
     "output_type": "stream",
     "text": [
      "+---------+-------+--------------------+--------------------+-----+----+-----+\n",
      "|lsoa_code|borough|      major_category|      minor_category|value|year|month|\n",
      "+---------+-------+--------------------+--------------------+-----+----+-----+\n",
      "|E01001786|Hackney|     Criminal Damage|Criminal Damage T...|    0|2011|    6|\n",
      "|E01001794|Hackney|Violence Against ...|          Harassment|    1|2013|    2|\n",
      "|E01001787|Hackney|     Criminal Damage|Other Criminal Da...|    0|2011|    7|\n",
      "|E01001738|Hackney|Violence Against ...|        Wounding/GBH|    0|2013|   12|\n",
      "|E01001807|Hackney|  Theft and Handling|  Other Theft Person|    0|2016|    8|\n",
      "+---------+-------+--------------------+--------------------+-----+----+-----+\n",
      "only showing top 5 rows\n",
      "\n"
     ]
    }
   ],
   "source": [
    "hachney_data.show(5)"
   ]
  },
  {
   "cell_type": "code",
   "execution_count": 42,
   "metadata": {},
   "outputs": [
    {
     "name": "stdout",
     "output_type": "stream",
     "text": [
      "+---------+--------------------+--------------------+--------------------+-----+----+-----+\n",
      "|lsoa_code|             borough|      major_category|      minor_category|value|year|month|\n",
      "+---------+--------------------+--------------------+--------------------+-----+----+-----+\n",
      "|E01002945|Kingston upon Thames|  Theft and Handling|    Theft From Shops|    0|2016|   11|\n",
      "|E01003325|            Lewisham|Violence Against ...|      Common Assault|    0|2016|    2|\n",
      "|E01002804|           Islington|  Theft and Handling|Theft/Taking Of M...|    0|2016|    6|\n",
      "|E01002938|Kingston upon Thames|  Theft and Handling|Motor Vehicle Int...|    0|2016|    5|\n",
      "|E01003165|             Lambeth|Violence Against ...|      Other violence|    0|2016|    7|\n",
      "|E01001902|Hammersmith and F...|               Drugs| Possession Of Drugs|    1|2016|    2|\n",
      "|E01002365|            Havering|Violence Against ...|          Harassment|    1|2016|    8|\n",
      "|E01033463|               Brent|  Theft and Handling|  Other Theft Person|    1|2016|   12|\n",
      "|E01001297|              Ealing|Other Notifiable ...|    Other Notifiable|    0|2016|   12|\n",
      "|E01001918|Hammersmith and F...|            Burglary|Burglary in Other...|    0|2015|    3|\n",
      "|E01004485|          Wandsworth|Violence Against ...|          Harassment|    0|2016|    4|\n",
      "|E01032562|             Bromley|     Criminal Damage|Other Criminal Da...|    0|2015|   12|\n",
      "|E01004263|       Tower Hamlets|Violence Against ...|          Harassment|    1|2016|   10|\n",
      "|E01004010|           Southwark|Violence Against ...|    Offensive Weapon|    0|2016|    8|\n",
      "|E01003230|            Lewisham|Violence Against ...|          Harassment|    2|2015|    3|\n",
      "|E01004615|          Wandsworth|  Theft and Handling|Theft/Taking of P...|    0|2016|    2|\n",
      "|E01004659|         Westminster|Violence Against ...|      Common Assault|    1|2016|    2|\n",
      "|E01002019|            Haringey|Violence Against ...|        Wounding/GBH|    0|2016|   12|\n",
      "|E01000641|               Brent|            Burglary|Burglary in a Dwe...|    0|2016|    1|\n",
      "|E01004698|         Westminster|               Drugs|    Drug Trafficking|    0|2015|    9|\n",
      "+---------+--------------------+--------------------+--------------------+-----+----+-----+\n",
      "only showing top 20 rows\n",
      "\n"
     ]
    }
   ],
   "source": [
    "data_2015_2016 = data.filter(data['year'].isin(['2015', '2016']))\n",
    "data_2015_2016.sample(fraction=0.1).show()"
   ]
  },
  {
   "cell_type": "code",
   "execution_count": 46,
   "metadata": {},
   "outputs": [
    {
     "name": "stdout",
     "output_type": "stream",
     "text": [
      "+---------+--------------------+--------------------+--------------------+-----+----+-----+\n",
      "|lsoa_code|             borough|      major_category|      minor_category|value|year|month|\n",
      "+---------+--------------------+--------------------+--------------------+-----+----+-----+\n",
      "|E01003852|Richmond upon Thames|             Robbery|   Personal Property|    0|2014|    1|\n",
      "|E01003947|           Southwark|               Drugs| Possession Of Drugs|    0|2015|    3|\n",
      "|E01004436|      Waltham Forest|Other Notifiable ...|      Going Equipped|    0|2015|    2|\n",
      "|E01001863|Hammersmith and F...|             Robbery|   Business Property|    0|2014|    9|\n",
      "|E01002804|           Islington|  Theft and Handling|Theft/Taking Of M...|    0|2016|    6|\n",
      "|E01002857|Kensington and Ch...|Other Notifiable ...|    Other Notifiable|    0|2015|    5|\n",
      "|E01001005|             Croydon|  Theft and Handling|  Other Theft Person|    0|2015|    3|\n",
      "|E01002884|Kensington and Ch...|Other Notifiable ...|    Other Notifiable|    0|2016|   10|\n",
      "|E01003247|            Lewisham|  Theft and Handling|Theft/Taking Of M...|    0|2014|    8|\n",
      "|E01000625|               Brent|               Drugs|         Other Drugs|    0|2014|    6|\n",
      "|E01003777|           Redbridge|Other Notifiable ...|      Going Equipped|    0|2014|    1|\n",
      "|E01001444|             Enfield|  Theft and Handling|Motor Vehicle Int...|    1|2015|    7|\n",
      "|E01001279|              Ealing|Violence Against ...|        Wounding/GBH|    0|2015|   12|\n",
      "|E01000289|              Barnet|  Theft and Handling|Handling Stolen G...|    0|2016|    4|\n",
      "|E01001898|Hammersmith and F...|  Theft and Handling|Theft/Taking Of M...|    1|2016|   12|\n",
      "|E01003112|             Lambeth|               Drugs|    Drug Trafficking|    0|2015|    5|\n",
      "|E01001312|              Ealing|            Burglary|Burglary in Other...|    0|2016|    5|\n",
      "|E01004063|           Southwark|  Theft and Handling|Handling Stolen G...|    0|2015|    3|\n",
      "|E01003749|           Redbridge|     Criminal Damage|Criminal Damage T...|    0|2014|    3|\n",
      "|E01004010|           Southwark|Violence Against ...|    Offensive Weapon|    0|2016|    8|\n",
      "+---------+--------------------+--------------------+--------------------+-----+----+-----+\n",
      "only showing top 20 rows\n",
      "\n"
     ]
    }
   ],
   "source": [
    "data_2014_onwards = data.filter(data['year'] >= 2014)\n",
    "data_2014_onwards.sample(fraction=0.1).show()"
   ]
  },
  {
   "cell_type": "code",
   "execution_count": 48,
   "metadata": {},
   "outputs": [
    {
     "name": "stdout",
     "output_type": "stream",
     "text": [
      "+--------------------+------+\n",
      "|             borough| count|\n",
      "+--------------------+------+\n",
      "|             Croydon|602100|\n",
      "|          Wandsworth|498636|\n",
      "|              Bexley|385668|\n",
      "|             Lambeth|519048|\n",
      "|Barking and Dagenham|311040|\n",
      "+--------------------+------+\n",
      "only showing top 5 rows\n",
      "\n"
     ]
    }
   ],
   "source": [
    "borough_crime_count = data.groupby('borough')\\\n",
    "                            .count()\n",
    "borough_crime_count.show(5)"
   ]
  },
  {
   "cell_type": "code",
   "execution_count": 53,
   "metadata": {},
   "outputs": [
    {
     "name": "stdout",
     "output_type": "stream",
     "text": [
      "+--------------------+-----------+\n",
      "|             borough|convictions|\n",
      "+--------------------+-----------+\n",
      "|             Croydon|   260294.0|\n",
      "|          Wandsworth|   204741.0|\n",
      "|              Bexley|   114136.0|\n",
      "|             Lambeth|   292178.0|\n",
      "|Barking and Dagenham|   149447.0|\n",
      "+--------------------+-----------+\n",
      "only showing top 5 rows\n",
      "\n"
     ]
    }
   ],
   "source": [
    "borough_conviction_sum = data.groupBy('borough')\\\n",
    "                            .agg({'value':'sum'})\\\n",
    "                            .withColumnRenamed('sum(value)', 'convictions')\n",
    "                            #rename sum(value) to 'convictions'\n",
    "borough_conviction_sum.show(5)"
   ]
  },
  {
   "cell_type": "code",
   "execution_count": 61,
   "metadata": {},
   "outputs": [
    {
     "name": "stdout",
     "output_type": "stream",
     "text": [
      "+----------------+\n",
      "|sum(convictions)|\n",
      "+----------------+\n",
      "|       6447758.0|\n",
      "+----------------+\n",
      "\n"
     ]
    }
   ],
   "source": [
    "total_borough_convictions = borough_conviction_sum.agg({'convictions':'sum'})\n",
    "total_borough_convictions.show()"
   ]
  },
  {
   "cell_type": "code",
   "execution_count": 62,
   "metadata": {},
   "outputs": [],
   "source": [
    "total_convictions = total_borough_convictions.collect()[0][0]"
   ]
  },
  {
   "cell_type": "code",
   "execution_count": 63,
   "metadata": {},
   "outputs": [
    {
     "data": {
      "text/plain": [
       "float"
      ]
     },
     "execution_count": 63,
     "metadata": {},
     "output_type": "execute_result"
    }
   ],
   "source": [
    "type(total_convictions)"
   ]
  },
  {
   "cell_type": "code",
   "execution_count": 64,
   "metadata": {},
   "outputs": [
    {
     "data": {
      "text/plain": [
       "6447758.0"
      ]
     },
     "execution_count": 64,
     "metadata": {},
     "output_type": "execute_result"
    }
   ],
   "source": [
    "total_convictions"
   ]
  },
  {
   "cell_type": "code",
   "execution_count": 65,
   "metadata": {},
   "outputs": [],
   "source": [
    "import pyspark.sql.functions as func"
   ]
  },
  {
   "cell_type": "code",
   "execution_count": 66,
   "metadata": {},
   "outputs": [],
   "source": [
    "borough_percentage_contribution = borough_conviction_sum.withColumn('% contribution', \n",
    "                          func.round(borough_conviction_sum.convictions / total_convictions * 100, 2))"
   ]
  },
  {
   "cell_type": "code",
   "execution_count": 68,
   "metadata": {},
   "outputs": [
    {
     "name": "stdout",
     "output_type": "stream",
     "text": [
      "root\n",
      " |-- borough: string (nullable = true)\n",
      " |-- convictions: double (nullable = true)\n",
      " |-- % contribution: double (nullable = true)\n",
      "\n"
     ]
    }
   ],
   "source": [
    "borough_percentage_contribution.printSchema()"
   ]
  },
  {
   "cell_type": "code",
   "execution_count": 69,
   "metadata": {},
   "outputs": [
    {
     "name": "stdout",
     "output_type": "stream",
     "text": [
      "+-------------+-----------+--------------+\n",
      "|      borough|convictions|% contribution|\n",
      "+-------------+-----------+--------------+\n",
      "|  Westminster|   455028.0|          7.06|\n",
      "|      Lambeth|   292178.0|          4.53|\n",
      "|    Southwark|   278809.0|          4.32|\n",
      "|       Camden|   275147.0|          4.27|\n",
      "|       Newham|   262024.0|          4.06|\n",
      "|      Croydon|   260294.0|          4.04|\n",
      "|       Ealing|   251562.0|           3.9|\n",
      "|    Islington|   230286.0|          3.57|\n",
      "|Tower Hamlets|   228613.0|          3.55|\n",
      "|        Brent|   227551.0|          3.53|\n",
      "+-------------+-----------+--------------+\n",
      "only showing top 10 rows\n",
      "\n"
     ]
    }
   ],
   "source": [
    "borough_percentage_contribution.orderBy(borough_percentage_contribution[2].desc())\\\n",
    ".show(10)"
   ]
  },
  {
   "cell_type": "code",
   "execution_count": 71,
   "metadata": {},
   "outputs": [],
   "source": [
    "conviction_monthly = data.filter(data['year'] == 2014)\\\n",
    "                        .groupBy('month')\\\n",
    "                        .agg({'value':'sum'})\\\n",
    "                        .withColumnRenamed('sum(value)','convictions')"
   ]
  },
  {
   "cell_type": "code",
   "execution_count": 73,
   "metadata": {},
   "outputs": [
    {
     "name": "stdout",
     "output_type": "stream",
     "text": [
      "+-----+-----------+\n",
      "|month|convictions|\n",
      "+-----+-----------+\n",
      "|    7|    58564.0|\n",
      "|   11|    59704.0|\n",
      "|    3|    57669.0|\n",
      "|    8|    55641.0|\n",
      "|    5|    56327.0|\n",
      "|    6|    57039.0|\n",
      "|    9|    56933.0|\n",
      "|    1|    55515.0|\n",
      "|   10|    60537.0|\n",
      "|    4|    53467.0|\n",
      "|   12|    57565.0|\n",
      "|    2|    51222.0|\n",
      "+-----+-----------+\n",
      "\n"
     ]
    }
   ],
   "source": [
    "conviction_monthly.show()"
   ]
  },
  {
   "cell_type": "code",
   "execution_count": 79,
   "metadata": {},
   "outputs": [
    {
     "data": {
      "text/plain": [
       "['month', 'convictions', 'percent']"
      ]
     },
     "execution_count": 79,
     "metadata": {},
     "output_type": "execute_result"
    }
   ],
   "source": [
    "total_conviction_monthly = conviction_monthly.agg({'convictions':'sum'})\\\n",
    "                                        .collect()[0][0]\n",
    "total_conviction_monthly = conviction_monthly.withColumn('percent',\n",
    "                func.round(conviction_monthly.convictions/total_conviction_monthly * 100, 2)) \n",
    "total_conviction_monthly.columns"
   ]
  },
  {
   "cell_type": "code",
   "execution_count": 80,
   "metadata": {},
   "outputs": [
    {
     "name": "stdout",
     "output_type": "stream",
     "text": [
      "+-----+-----------+-------+\n",
      "|month|convictions|percent|\n",
      "+-----+-----------+-------+\n",
      "|   10|    60537.0|    8.9|\n",
      "|   11|    59704.0|   8.78|\n",
      "|    7|    58564.0|   8.61|\n",
      "|    3|    57669.0|   8.48|\n",
      "|   12|    57565.0|   8.46|\n",
      "|    6|    57039.0|   8.39|\n",
      "|    9|    56933.0|   8.37|\n",
      "|    5|    56327.0|   8.28|\n",
      "|    8|    55641.0|   8.18|\n",
      "|    1|    55515.0|   8.16|\n",
      "|    4|    53467.0|   7.86|\n",
      "|    2|    51222.0|   7.53|\n",
      "+-----+-----------+-------+\n",
      "\n"
     ]
    }
   ],
   "source": [
    "total_conviction_monthly.orderBy(total_conviction_monthly.percent.desc()).show()"
   ]
  },
  {
   "cell_type": "code",
   "execution_count": 81,
   "metadata": {},
   "outputs": [],
   "source": [
    "crime_catagory = data.groupBy('major_category')\\\n",
    "                    .agg({'value': 'sum'})\\\n",
    "                    .withColumnRenamed('sum(value)', 'convictions')"
   ]
  },
  {
   "cell_type": "code",
   "execution_count": 82,
   "metadata": {},
   "outputs": [
    {
     "name": "stdout",
     "output_type": "stream",
     "text": [
      "+--------------------+-----------+\n",
      "|      major_category|convictions|\n",
      "+--------------------+-----------+\n",
      "|  Theft and Handling|  2661861.0|\n",
      "|Violence Against ...|  1558081.0|\n",
      "|            Burglary|   754293.0|\n",
      "|     Criminal Damage|   630938.0|\n",
      "|               Drugs|   470765.0|\n",
      "|             Robbery|   258873.0|\n",
      "|Other Notifiable ...|   106349.0|\n",
      "|    Fraud or Forgery|     5325.0|\n",
      "|     Sexual Offences|     1273.0|\n",
      "+--------------------+-----------+\n",
      "\n"
     ]
    }
   ],
   "source": [
    "crime_catagory.orderBy(crime_catagory.convictions.desc()).show()"
   ]
  },
  {
   "cell_type": "code",
   "execution_count": 83,
   "metadata": {},
   "outputs": [],
   "source": [
    "year_df = data.select('year')"
   ]
  },
  {
   "cell_type": "code",
   "execution_count": 84,
   "metadata": {},
   "outputs": [
    {
     "name": "stdout",
     "output_type": "stream",
     "text": [
      "+---------+\n",
      "|min(year)|\n",
      "+---------+\n",
      "|     2008|\n",
      "+---------+\n",
      "\n"
     ]
    }
   ],
   "source": [
    "year_df.agg({'year':'min'}).show()"
   ]
  },
  {
   "cell_type": "code",
   "execution_count": 85,
   "metadata": {},
   "outputs": [
    {
     "name": "stdout",
     "output_type": "stream",
     "text": [
      "+---------+\n",
      "|max(year)|\n",
      "+---------+\n",
      "|     2016|\n",
      "+---------+\n",
      "\n"
     ]
    }
   ],
   "source": [
    "year_df.agg({'year':'max'}).show()"
   ]
  },
  {
   "cell_type": "code",
   "execution_count": 86,
   "metadata": {},
   "outputs": [
    {
     "name": "stdout",
     "output_type": "stream",
     "text": [
      "+-------+-----------------+\n",
      "|summary|             year|\n",
      "+-------+-----------------+\n",
      "|  count|         13490604|\n",
      "|   mean|           2012.0|\n",
      "| stddev|2.581988993167432|\n",
      "|    min|             2008|\n",
      "|    max|             2016|\n",
      "+-------+-----------------+\n",
      "\n"
     ]
    }
   ],
   "source": [
    "year_df.describe().show()"
   ]
  },
  {
   "cell_type": "code",
   "execution_count": 88,
   "metadata": {},
   "outputs": [
    {
     "name": "stdout",
     "output_type": "stream",
     "text": [
      "+----------------------+--------+-----+----------------+-------+---------------+\n",
      "|borough_major_category|Burglary|Drugs|Fraud or Forgery|Robbery|Criminal Damage|\n",
      "+----------------------+--------+-----+----------------+-------+---------------+\n",
      "|              Havering|   32400|32616|            5508|  27648|          64152|\n",
      "|                Merton|   26784|29160|            5724|  23652|          52920|\n",
      "|              Haringey|   31320|35424|           10368|  29484|          62424|\n",
      "|         Tower Hamlets|   31104|37368|            5400|  28512|          62100|\n",
      "|               Bromley|   42552|42336|            8532|  34668|          84456|\n",
      "|               Enfield|   39528|44064|            9720|  35532|          77760|\n",
      "|  Kingston upon Thames|   21168|22140|            3780|  15660|          42120|\n",
      "|           Westminster|   27648|32616|            8748|  25056|          55188|\n",
      "|  Richmond upon Thames|   24840|23004|            2808|  18468|          49572|\n",
      "|              Lewisham|   36504|43740|           11016|  34884|          72684|\n",
      "|                 Brent|   37368|46980|            9288|  34128|          73440|\n",
      "|  Barking and Dagenham|   23760|26244|            7236|  22248|          46764|\n",
      "|             Redbridge|   34776|36504|            8532|  32400|          68796|\n",
      "|             Islington|   26568|34128|            5184|  26244|          53028|\n",
      "|               Hackney|   31104|38772|            7560|  29160|          61884|\n",
      "|                Newham|   35424|41580|           10692|  34452|          70416|\n",
      "|        City of London|     540|  756|               0|    540|           1188|\n",
      "|                Sutton|   26136|26784|            3024|  21060|          51408|\n",
      "|             Southwark|   35856|45144|           11772|  35316|          71496|\n",
      "|                Harrow|   29592|31212|            4752|  23976|          57996|\n",
      "+----------------------+--------+-----+----------------+-------+---------------+\n",
      "only showing top 20 rows\n",
      "\n"
     ]
    }
   ],
   "source": [
    "data.crosstab('borough', 'major_category')\\\n",
    "    .select('borough_major_category', 'Burglary', 'Drugs', 'Fraud or Forgery', 'Robbery', 'Criminal Damage')\\\n",
    "    .show()"
   ]
  },
  {
   "cell_type": "code",
   "execution_count": 89,
   "metadata": {},
   "outputs": [],
   "source": [
    "get_ipython().magic('matplotlib inline')\n",
    "import matplotlib.pyplot as plt\n",
    "plt.style.use('ggplot')"
   ]
  },
  {
   "cell_type": "code",
   "execution_count": 99,
   "metadata": {},
   "outputs": [],
   "source": [
    "def describe_year(year):\n",
    "    yearly_details = data.filter(data.year == year)\\\n",
    "                        .groupBy('borough')\\\n",
    "                        .agg({'value':'sum'})\\\n",
    "                        .withColumnRenamed('sum(value)', 'convictions')\n",
    "    \n",
    "    borough_list = [x[0] for x in yearly_details.toLocalIterator()]\n",
    "    convictions_list = [x[1] for x in yearly_details.toLocalIterator()]\n",
    "    \n",
    "    plt.figure(figsize=(33,10))\n",
    "    plt.bar(borough_list, convictions_list)\n",
    "    \n",
    "    plt.title('Crime for the year:' + year, fontsize=30)\n",
    "    plt.xlabel('Boroughs', fontsize=30)\n",
    "    plt.ylabel('Convictions', fontsize=30)\n",
    "    \n",
    "    plt.xticks(rotation=90, fontsize=30)\n",
    "    plt.yticks(fontsize=30)\n",
    "    plt.autoscale()\n",
    "    plt.show()"
   ]
  },
  {
   "cell_type": "code",
   "execution_count": 100,
   "metadata": {},
   "outputs": [
    {
     "data": {
      "image/png": "[encoded data removed]",
      "text/plain": [
       "<Figure size 2376x720 with 1 Axes>"
      ]
     },
     "metadata": {
      "needs_background": "light"
     },
     "output_type": "display_data"
    }
   ],
   "source": [
    "describe_year('2014')"
   ]
  },
  {
   "cell_type": "code",
   "execution_count": null,
   "metadata": {},
   "outputs": [],
   "source": []
  }
 ],
 "metadata": {
  "kernelspec": {
   "display_name": "Python 3",
   "language": "python",
   "name": "python3"
  },
  "language_info": {
   "codemirror_mode": {
    "name": "ipython",
    "version": 3
   },
   "file_extension": ".py",
   "mimetype": "text/x-python",
   "name": "python",
   "nbconvert_exporter": "python",
   "pygments_lexer": "ipython3",
   "version": "3.7.4"
  }
 },
 "nbformat": 4,
 "nbformat_minor": 2
}
