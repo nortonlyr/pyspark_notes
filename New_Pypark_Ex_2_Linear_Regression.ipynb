{
 "cells": [
  {
   "cell_type": "markdown",
   "metadata": {},
   "source": [
    "### Cruise Ship Crew Size Prediction"
   ]
  },
  {
   "cell_type": "markdown",
   "metadata": {},
   "source": [
    "Congratulations! You've been contracted by Hyundai Heavy Industries to help them build a predictive model for some ships. Hyundai Heavy Industries is one of the world's largest ship manufacturing companies and builds cruise liners.\n",
    "\n",
    "You've been flown to their headquarters in Ulsan, South Korea to help them give accurate estimates of how many crew members a ship will require.\n",
    "\n",
    "They are currently building new ships for some customers and want you to create a model and use it to predict how many crew members the ships will need.\n",
    "\n",
    "Here is what the data looks like so far:\n",
    "\n",
    "Description: Measurements of ship size, capacity, crew, and age for 158 cruise\n",
    "ships.\n",
    "\n",
    "Variables/Columns <br>\n",
    "Ship Name     1-20 <br>\n",
    "Cruise Line   21-40 <br>\n",
    "Age (as of 2013)   46-48 <br>\n",
    "Tonnage (1000s of tons)   50-56 <br>\n",
    "passengers (100s)   58-64 <br>\n",
    "Length (100s of feet)  66-72 <br>\n",
    "Cabins  (100s)   74-80 <br>\n",
    "Passenger Density   82-88 <br>\n",
    "Crew  (100s)   90-96"
   ]
  },
  {
   "cell_type": "code",
   "execution_count": 12,
   "metadata": {},
   "outputs": [
    {
     "data": {
      "text/html": [
       "<style>.container{width:100% !imporant;}</style>"
      ],
      "text/plain": [
       "<IPython.core.display.HTML object>"
      ]
     },
     "metadata": {},
     "output_type": "display_data"
    }
   ],
   "source": [
    "from IPython.core.display import display, HTML\n",
    "display(HTML(\"<style>.container{width:100% !imporant;}</style>\"))"
   ]
  },
  {
   "cell_type": "code",
   "execution_count": 13,
   "metadata": {},
   "outputs": [],
   "source": [
    "# import\n",
    "from pyspark.sql import SparkSession\n",
    "import seaborn as sns\n",
    "%matplotlib inline"
   ]
  },
  {
   "cell_type": "code",
   "execution_count": 14,
   "metadata": {},
   "outputs": [],
   "source": [
    "# Start Spark Session\n",
    "spark = SparkSession.builder.appName('Linear_Regression').getOrCreate()"
   ]
  },
  {
   "cell_type": "code",
   "execution_count": 15,
   "metadata": {},
   "outputs": [],
   "source": [
    "# Read Data\n",
    "df = spark.read.csv('cruise_ship_info.csv', inferSchema=True, header=True)"
   ]
  },
  {
   "cell_type": "code",
   "execution_count": 16,
   "metadata": {},
   "outputs": [
    {
     "name": "stdout",
     "output_type": "stream",
     "text": [
      "+-----------+-----------+---+------------------+----------+------+------+-----------------+----+\n",
      "|  Ship_name|Cruise_line|Age|           Tonnage|passengers|length|cabins|passenger_density|crew|\n",
      "+-----------+-----------+---+------------------+----------+------+------+-----------------+----+\n",
      "|    Journey|    Azamara|  6|30.276999999999997|      6.94|  5.94|  3.55|            42.64|3.55|\n",
      "|      Quest|    Azamara|  6|30.276999999999997|      6.94|  5.94|  3.55|            42.64|3.55|\n",
      "|Celebration|   Carnival| 26|            47.262|     14.86|  7.22|  7.43|             31.8| 6.7|\n",
      "|   Conquest|   Carnival| 11|             110.0|     29.74|  9.53| 14.88|            36.99|19.1|\n",
      "|    Destiny|   Carnival| 17|           101.353|     26.42|  8.92| 13.21|            38.36|10.0|\n",
      "|    Ecstasy|   Carnival| 22|            70.367|     20.52|  8.55|  10.2|            34.29| 9.2|\n",
      "|    Elation|   Carnival| 15|            70.367|     20.52|  8.55|  10.2|            34.29| 9.2|\n",
      "|    Fantasy|   Carnival| 23|            70.367|     20.56|  8.55| 10.22|            34.23| 9.2|\n",
      "|Fascination|   Carnival| 19|            70.367|     20.52|  8.55|  10.2|            34.29| 9.2|\n",
      "|    Freedom|   Carnival|  6|110.23899999999999|      37.0|  9.51| 14.87|            29.79|11.5|\n",
      "|      Glory|   Carnival| 10|             110.0|     29.74|  9.51| 14.87|            36.99|11.6|\n",
      "|    Holiday|   Carnival| 28|            46.052|     14.52|  7.27|  7.26|            31.72| 6.6|\n",
      "|Imagination|   Carnival| 18|            70.367|     20.52|  8.55|  10.2|            34.29| 9.2|\n",
      "|Inspiration|   Carnival| 17|            70.367|     20.52|  8.55|  10.2|            34.29| 9.2|\n",
      "|     Legend|   Carnival| 11|              86.0|     21.24|  9.63| 10.62|            40.49| 9.3|\n",
      "|   Liberty*|   Carnival|  8|             110.0|     29.74|  9.51| 14.87|            36.99|11.6|\n",
      "|    Miracle|   Carnival|  9|              88.5|     21.24|  9.63| 10.62|            41.67|10.3|\n",
      "|   Paradise|   Carnival| 15|            70.367|     20.52|  8.55|  10.2|            34.29| 9.2|\n",
      "|      Pride|   Carnival| 12|              88.5|     21.24|  9.63| 11.62|            41.67| 9.3|\n",
      "|  Sensation|   Carnival| 20|            70.367|     20.52|  8.55|  10.2|            34.29| 9.2|\n",
      "+-----------+-----------+---+------------------+----------+------+------+-----------------+----+\n",
      "only showing top 20 rows\n",
      "\n"
     ]
    }
   ],
   "source": [
    "# View Data\n",
    "df.show()"
   ]
  },
  {
   "cell_type": "code",
   "execution_count": 17,
   "metadata": {},
   "outputs": [
    {
     "name": "stdout",
     "output_type": "stream",
     "text": [
      "root\n",
      " |-- Ship_name: string (nullable = true)\n",
      " |-- Cruise_line: string (nullable = true)\n",
      " |-- Age: integer (nullable = true)\n",
      " |-- Tonnage: double (nullable = true)\n",
      " |-- passengers: double (nullable = true)\n",
      " |-- length: double (nullable = true)\n",
      " |-- cabins: double (nullable = true)\n",
      " |-- passenger_density: double (nullable = true)\n",
      " |-- crew: double (nullable = true)\n",
      "\n"
     ]
    }
   ],
   "source": [
    "df.printSchema()"
   ]
  },
  {
   "cell_type": "markdown",
   "metadata": {},
   "source": [
    "### Split Data to avoid contamination"
   ]
  },
  {
   "cell_type": "code",
   "execution_count": 24,
   "metadata": {},
   "outputs": [],
   "source": [
    "train_data, test_data = df.randomSplit([.8, .2])"
   ]
  },
  {
   "cell_type": "code",
   "execution_count": 25,
   "metadata": {},
   "outputs": [
    {
     "data": {
      "text/plain": [
       "124"
      ]
     },
     "execution_count": 25,
     "metadata": {},
     "output_type": "execute_result"
    }
   ],
   "source": [
    "train_data.count()"
   ]
  },
  {
   "cell_type": "code",
   "execution_count": 26,
   "metadata": {},
   "outputs": [
    {
     "data": {
      "text/plain": [
       "34"
      ]
     },
     "execution_count": 26,
     "metadata": {},
     "output_type": "execute_result"
    }
   ],
   "source": [
    "test_data.count()"
   ]
  },
  {
   "cell_type": "markdown",
   "metadata": {},
   "source": [
    "### Quick Analysis"
   ]
  },
  {
   "cell_type": "code",
   "execution_count": 27,
   "metadata": {},
   "outputs": [
    {
     "name": "stdout",
     "output_type": "stream",
     "text": [
      "+-------+---------+-----------+------------------+-----------------+------------------+------------------+-----------------+-----------------+-----------------+\n",
      "|summary|Ship_name|Cruise_line|               Age|          Tonnage|        passengers|            length|           cabins|passenger_density|             crew|\n",
      "+-------+---------+-----------+------------------+-----------------+------------------+------------------+-----------------+-----------------+-----------------+\n",
      "|  count|      124|        124|               124|              124|               124|               124|              124|              124|              124|\n",
      "|   mean|     null|       null|15.524193548387096|71.11874193548388|18.367419354838713| 8.109758064516127| 8.79362903225807|40.00701612903227|7.762741935483876|\n",
      "| stddev|     null|       null| 6.987170251599432|37.98635184491538|   9.7484211663913|1.7348974167605418|4.562561563843903|9.193210023507737|3.528110883235669|\n",
      "|    min|Adventure|    Azamara|                 4|            2.329|              0.94|              2.96|             0.45|             17.7|              0.6|\n",
      "|    max|Zuiderdam|   Windstar|                40|            220.0|              54.0|             11.82|             27.0|            71.43|             21.0|\n",
      "+-------+---------+-----------+------------------+-----------------+------------------+------------------+-----------------+-----------------+-----------------+\n",
      "\n"
     ]
    }
   ],
   "source": [
    "train_data.describe().show()"
   ]
  },
  {
   "cell_type": "markdown",
   "metadata": {},
   "source": [
    "### There are too many categories in Ship_name and Cruise_line to be used as a variable"
   ]
  },
  {
   "cell_type": "code",
   "execution_count": 28,
   "metadata": {},
   "outputs": [
    {
     "data": {
      "text/plain": [
       "110"
      ]
     },
     "execution_count": 28,
     "metadata": {},
     "output_type": "execute_result"
    }
   ],
   "source": [
    "train_data.select(\"Ship_name\").distinct().count()"
   ]
  },
  {
   "cell_type": "code",
   "execution_count": 30,
   "metadata": {},
   "outputs": [
    {
     "data": {
      "text/plain": [
       "19"
      ]
     },
     "execution_count": 30,
     "metadata": {},
     "output_type": "execute_result"
    }
   ],
   "source": [
    "train_data.select(\"Cruise_line\").distinct().count()"
   ]
  },
  {
   "cell_type": "code",
   "execution_count": 31,
   "metadata": {},
   "outputs": [
    {
     "name": "stdout",
     "output_type": "stream",
     "text": [
      "+-----------------+------------------+------------------+------------------+------------------+------------------+----------------------+------------------+\n",
      "|      Cruise_line|          avg(Age)|      avg(Tonnage)|   avg(passengers)|       avg(length)|       avg(cabins)|avg(passenger_density)|         avg(crew)|\n",
      "+-----------------+------------------+------------------+------------------+------------------+------------------+----------------------+------------------+\n",
      "|            Costa|            16.875|         67.730875|17.560000000000002| 8.063749999999999|           8.80125|               37.8125|            7.5175|\n",
      "|              P&O|              14.2| 78.23060000000001|            21.236|             8.596| 9.870000000000001|                  37.7|             8.606|\n",
      "|           Cunard|               8.0|             120.7|              23.1|             10.48|            10.815|    51.394999999999996|            10.765|\n",
      "|Regent_Seven_Seas|              15.8|             32.14|             5.208| 5.775999999999999|2.0580000000000003|     59.24399999999999|             3.146|\n",
      "|              MSC|16.285714285714285| 60.08257142857143| 17.93285714285714|  7.90857142857143|              8.19|    32.402857142857144| 7.207142857142857|\n",
      "|         Carnival| 15.68421052631579| 83.86805263157895| 23.39894736842105| 8.846315789473685|11.508947368421053|    35.792631578947365|              10.1|\n",
      "|          Crystal|              14.0|59.501999999999995|10.100000000000001|             7.855|              5.15|                 58.61|             5.905|\n",
      "|         Princess|              11.7|            94.509|            23.718|             8.922|            11.528|    40.962999999999994|             9.907|\n",
      "|        Silversea|14.666666666666666|22.266666666666666|3.5533333333333332|5.6933333333333325|1.7866666666666664|     62.21333333333333|2.5966666666666667|\n",
      "|         Seabourn|              24.0|              10.0|              2.08|               4.4|              1.04|    48.080000000000005|1.6000000000000003|\n",
      "| Holland_American|17.833333333333332| 58.79716666666667|13.774166666666666| 7.794999999999999| 6.903333333333333|     42.77833333333333| 6.094166666666666|\n",
      "|         Windstar|              24.0|           10.0475|              2.33|             5.285|              1.15|    40.864999999999995|              1.34|\n",
      "|           Disney|              14.5|            83.169|              17.5|              9.64|              8.75|                47.525|              9.45|\n",
      "|        Norwegian|18.555555555555557| 60.09711111111111|17.093333333333334| 7.853333333333334| 8.352222222222222|    34.221111111111114| 7.416666666666667|\n",
      "|          Oceania|14.333333333333334|30.276999999999997|              6.84|              5.94|              3.42|                 44.26|               4.0|\n",
      "|          Azamara|               6.0|30.276999999999997|              6.94|              5.94|              3.55|                 42.64|              3.55|\n",
      "|        Celebrity|13.714285714285714| 71.69614285714286|17.191428571428567| 8.031428571428572| 7.398571428571429|    37.784285714285716| 7.378571428571429|\n",
      "|             Star|             17.75| 44.48650000000001|           13.8175|              6.77|            7.2075|    30.637500000000003|              7.75|\n",
      "|  Royal_Caribbean|14.263157894736842|107.60957894736842|28.708947368421047| 9.608421052631579|13.309473684210525|    37.002105263157894| 10.16421052631579|\n",
      "+-----------------+------------------+------------------+------------------+------------------+------------------+----------------------+------------------+\n",
      "\n"
     ]
    }
   ],
   "source": [
    "train_data.groupby(\"Cruise_line\").mean().show()"
   ]
  },
  {
   "cell_type": "code",
   "execution_count": 32,
   "metadata": {},
   "outputs": [
    {
     "name": "stdout",
     "output_type": "stream",
     "text": [
      "+-----------------+-----+\n",
      "|      Cruise_line|count|\n",
      "+-----------------+-----+\n",
      "|            Costa|    8|\n",
      "|              P&O|    5|\n",
      "|           Cunard|    2|\n",
      "|Regent_Seven_Seas|    5|\n",
      "|              MSC|    7|\n",
      "|         Carnival|   19|\n",
      "|          Crystal|    2|\n",
      "|         Princess|   10|\n",
      "|        Silversea|    3|\n",
      "|         Seabourn|    3|\n",
      "| Holland_American|   12|\n",
      "|         Windstar|    2|\n",
      "|           Disney|    2|\n",
      "|        Norwegian|    9|\n",
      "|          Oceania|    3|\n",
      "|          Azamara|    2|\n",
      "|        Celebrity|    7|\n",
      "|             Star|    4|\n",
      "|  Royal_Caribbean|   19|\n",
      "+-----------------+-----+\n",
      "\n"
     ]
    }
   ],
   "source": [
    "train_data.groupby(\"Cruise_line\").count().show()"
   ]
  },
  {
   "cell_type": "markdown",
   "metadata": {},
   "source": [
    "### Variable Selection Using Correlation"
   ]
  },
  {
   "cell_type": "code",
   "execution_count": 33,
   "metadata": {},
   "outputs": [],
   "source": [
    "from pyspark.ml.linalg import Vectors\n",
    "from pyspark.ml.feature import VectorAssembler\n",
    "from pyspark.ml.stat import Correlation\n",
    "import pandas as pd\n",
    "import matplotlib.pyplot as plt"
   ]
  },
  {
   "cell_type": "code",
   "execution_count": 37,
   "metadata": {},
   "outputs": [],
   "source": [
    "def print_corr_mat(numeric_cols):\n",
    "    assembler = VectorAssembler(inputCols=numeric_cols, outputCol='corr_labels')\n",
    "    corr_data = assembler.transform(train_data)\n",
    "    corr_mat = Correlation.corr(corr_data, 'corr_labels').head()\n",
    "    corr_pddf = pd.DataFrame(data=corr_mat[0].toArray(), index=numeric_cols, columns=numeric_cols)\n",
    "    \n",
    "    sns.heatmap(corr_pddf, annot=True)"
   ]
  },
  {
   "cell_type": "code",
   "execution_count": 38,
   "metadata": {},
   "outputs": [
    {
     "data": {
      "image/png": "[encoded data removed]",
      "text/plain": [
       "<Figure size 432x288 with 2 Axes>"
      ]
     },
     "metadata": {
      "needs_background": "light"
     },
     "output_type": "display_data"
    }
   ],
   "source": [
    "print_corr_mat(['Age', 'Tonnage', 'passengers', 'length', 'cabins', 'passenger_density', 'crew'])"
   ]
  },
  {
   "cell_type": "markdown",
   "metadata": {},
   "source": [
    "#### Age and Cabins are the only viable features due to their correlation with Crew and lack of correlation with other variables"
   ]
  },
  {
   "cell_type": "code",
   "execution_count": 39,
   "metadata": {},
   "outputs": [],
   "source": [
    "no_corr_cols = ['Age', 'cabins']"
   ]
  },
  {
   "cell_type": "code",
   "execution_count": 40,
   "metadata": {},
   "outputs": [
    {
     "data": {
      "image/png": "[encoded data removed]",
      "text/plain": [
       "<Figure size 432x288 with 2 Axes>"
      ]
     },
     "metadata": {
      "needs_background": "light"
     },
     "output_type": "display_data"
    }
   ],
   "source": [
    "print_corr_mat(no_corr_cols)"
   ]
  },
  {
   "cell_type": "code",
   "execution_count": 50,
   "metadata": {},
   "outputs": [],
   "source": [
    "from pyspark.ml.regression import LinearRegression\n",
    "\n",
    "def lr_model(no_corr_cols, train_data, test_data):\n",
    "    assembler = VectorAssembler(inputCols=no_corr_cols, outputCol='features')\n",
    "    \n",
    "    output_train = assembler.transform(train_data)\n",
    "    output_test = assembler.transform(test_data)\n",
    "    \n",
    "    final_train_data = output_train.select('features', 'crew')\n",
    "    final_test_data = output_test.select('features', 'crew')\n",
    " \n",
    "    lr = LinearRegression(labelCol = 'crew')\n",
    "    lr_model = lr.fit(final_train_data)\n",
    "    lr_summary = lr_model.summary\n",
    "    \n",
    "    print('Model Intercept: ', lr_model.intercept)\n",
    "    print('Coefficients:')\n",
    "    \n",
    "    for i,j in zip(no_corr_cols, lr_model.coefficients):\n",
    "        print(i, ':', j)\n",
    "    print()\n",
    "    \n",
    "    print('P-values:')\n",
    "    for i,j in zip(no_corr_cols, lr_summary.pValues):\n",
    "        print(i, ':', j)\n",
    "    print()\n",
    "    \n",
    "    print('Model Performance Training Set:')\n",
    "    train_result = lr_model.evaluate(final_train_data)\n",
    "    print('R-squared:', str(train_result.r2))\n",
    "    print('MAE:', str(train_result.meanAbsoluteError))\n",
    "    \n",
    "    return final_train_data, final_test_data, lr_model"
   ]
  },
  {
   "cell_type": "markdown",
   "metadata": {},
   "source": [
    "### Training Set Performance"
   ]
  },
  {
   "cell_type": "code",
   "execution_count": 51,
   "metadata": {},
   "outputs": [
    {
     "name": "stdout",
     "output_type": "stream",
     "text": [
      "Model Intercept:  2.1772296914290648\n",
      "Coefficients:\n",
      "Age : -0.040208147379482015\n",
      "cabins : 0.7061602534535627\n",
      "\n",
      "P-values:\n",
      "Age : 0.011246315346750135\n",
      "cabins : 0.0\n",
      "\n",
      "Model Performance Training Set:\n",
      "R-squared: 0.9138535369773763\n",
      "MAE: 0.6843883043226564\n"
     ]
    }
   ],
   "source": [
    "final_train_data, final_test_data, lr_model = lr_model(no_corr_cols, train_data, test_data)"
   ]
  },
  {
   "cell_type": "markdown",
   "metadata": {},
   "source": [
    "### Test Set Performance"
   ]
  },
  {
   "cell_type": "code",
   "execution_count": 52,
   "metadata": {},
   "outputs": [],
   "source": [
    "test_result = lr_model.evaluate(final_test_data)"
   ]
  },
  {
   "cell_type": "code",
   "execution_count": 53,
   "metadata": {},
   "outputs": [
    {
     "data": {
      "text/plain": [
       "0.877242420836513"
      ]
     },
     "execution_count": 53,
     "metadata": {},
     "output_type": "execute_result"
    }
   ],
   "source": [
    "test_result.r2"
   ]
  },
  {
   "cell_type": "code",
   "execution_count": 55,
   "metadata": {},
   "outputs": [
    {
     "data": {
      "text/plain": [
       "0.8718760806379829"
      ]
     },
     "execution_count": 55,
     "metadata": {},
     "output_type": "execute_result"
    }
   ],
   "source": [
    "test_result.meanAbsoluteError"
   ]
  },
  {
   "cell_type": "code",
   "execution_count": null,
   "metadata": {},
   "outputs": [],
   "source": []
  }
 ],
 "metadata": {
  "kernelspec": {
   "display_name": "Python 3",
   "language": "python",
   "name": "python3"
  },
  "language_info": {
   "codemirror_mode": {
    "name": "ipython",
    "version": 3
   },
   "file_extension": ".py",
   "mimetype": "text/x-python",
   "name": "python",
   "nbconvert_exporter": "python",
   "pygments_lexer": "ipython3",
   "version": "3.7.6"
  }
 },
 "nbformat": 4,
 "nbformat_minor": 4
}
