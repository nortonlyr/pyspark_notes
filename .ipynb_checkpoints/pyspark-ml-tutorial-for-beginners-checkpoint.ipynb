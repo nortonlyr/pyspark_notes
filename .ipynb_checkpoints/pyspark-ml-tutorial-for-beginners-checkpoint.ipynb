{
 "cells": [
  {
   "cell_type": "markdown",
   "id": "51638757",
   "metadata": {},
   "source": [
    "reference: https://www.kaggle.com/fatmakursun/pyspark-ml-tutorial-for-beginners"
   ]
  },
  {
   "cell_type": "code",
   "execution_count": null,
   "id": "c8b1411d",
   "metadata": {},
   "outputs": [],
   "source": []
  },
  {
   "cell_type": "code",
   "execution_count": null,
   "id": "cb485dfc",
   "metadata": {},
   "outputs": [],
   "source": []
  }
 ],
 "metadata": {
  "kernelspec": {
   "display_name": "Python 3",
   "language": "python",
   "name": "python3"
  },
  "language_info": {
   "codemirror_mode": {
    "name": "ipython",
    "version": 3
   },
   "file_extension": ".py",
   "mimetype": "text/x-python",
   "name": "python",
   "nbconvert_exporter": "python",
   "pygments_lexer": "ipython3",
   "version": "3.8.8"
  }
 },
 "nbformat": 4,
 "nbformat_minor": 5
}
