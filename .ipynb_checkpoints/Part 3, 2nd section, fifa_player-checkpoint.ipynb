{
 "cells": [
  {
   "cell_type": "code",
   "execution_count": 7,
   "metadata": {},
   "outputs": [],
   "source": [
    "from pyspark.sql import SparkSession"
   ]
  },
  {
   "cell_type": "code",
   "execution_count": 8,
   "metadata": {},
   "outputs": [],
   "source": [
    "spark = SparkSession.builder\\\n",
    "                    .appName('Analyzing soccer players')\\\n",
    "                    .getOrCreate()"
   ]
  },
  {
   "cell_type": "code",
   "execution_count": 9,
   "metadata": {},
   "outputs": [],
   "source": [
    "players = spark.read\\\n",
    "                .format('csv')\\\n",
    "                .option('header', 'true')\\\n",
    "                .load('./datasets/fifa_player/player.csv')"
   ]
  },
  {
   "cell_type": "code",
   "execution_count": 10,
   "metadata": {},
   "outputs": [
    {
     "name": "stdout",
     "output_type": "stream",
     "text": [
      "root\n",
      " |-- id: string (nullable = true)\n",
      " |-- player_api_id: string (nullable = true)\n",
      " |-- player_name: string (nullable = true)\n",
      " |-- player_fifa_api_id: string (nullable = true)\n",
      " |-- birthday: string (nullable = true)\n",
      " |-- height: string (nullable = true)\n",
      " |-- weight: string (nullable = true)\n",
      "\n"
     ]
    }
   ],
   "source": [
    "players.printSchema()"
   ]
  },
  {
   "cell_type": "code",
   "execution_count": 11,
   "metadata": {},
   "outputs": [
    {
     "name": "stdout",
     "output_type": "stream",
     "text": [
      "+---+-------------+------------------+------------------+-------------------+------+------+\n",
      "| id|player_api_id|       player_name|player_fifa_api_id|           birthday|height|weight|\n",
      "+---+-------------+------------------+------------------+-------------------+------+------+\n",
      "|  1|       505942|Aaron Appindangoye|            218353|1992-02-29 00:00:00|182.88|   187|\n",
      "|  2|       155782|   Aaron Cresswell|            189615|1989-12-15 00:00:00|170.18|   146|\n",
      "|  3|       162549|       Aaron Doran|            186170|1991-05-13 00:00:00|170.18|   163|\n",
      "|  4|        30572|     Aaron Galindo|            140161|1982-05-08 00:00:00|182.88|   198|\n",
      "|  5|        23780|      Aaron Hughes|             17725|1979-11-08 00:00:00|182.88|   154|\n",
      "+---+-------------+------------------+------------------+-------------------+------+------+\n",
      "only showing top 5 rows\n",
      "\n"
     ]
    }
   ],
   "source": [
    "players.show(5)"
   ]
  },
  {
   "cell_type": "code",
   "execution_count": 12,
   "metadata": {},
   "outputs": [],
   "source": [
    "player_attributes = spark.read\\\n",
    "                        .format('csv')\\\n",
    "                        .option('header', 'true')\\\n",
    "                        .load('./datasets/fifa_player/Player_Attributes.csv')"
   ]
  },
  {
   "cell_type": "code",
   "execution_count": 13,
   "metadata": {},
   "outputs": [
    {
     "name": "stdout",
     "output_type": "stream",
     "text": [
      "root\n",
      " |-- id: string (nullable = true)\n",
      " |-- player_fifa_api_id: string (nullable = true)\n",
      " |-- player_api_id: string (nullable = true)\n",
      " |-- date: string (nullable = true)\n",
      " |-- overall_rating: string (nullable = true)\n",
      " |-- potential: string (nullable = true)\n",
      " |-- preferred_foot: string (nullable = true)\n",
      " |-- attacking_work_rate: string (nullable = true)\n",
      " |-- defensive_work_rate: string (nullable = true)\n",
      " |-- crossing: string (nullable = true)\n",
      " |-- finishing: string (nullable = true)\n",
      " |-- heading_accuracy: string (nullable = true)\n",
      " |-- short_passing: string (nullable = true)\n",
      " |-- volleys: string (nullable = true)\n",
      " |-- dribbling: string (nullable = true)\n",
      " |-- curve: string (nullable = true)\n",
      " |-- free_kick_accuracy: string (nullable = true)\n",
      " |-- long_passing: string (nullable = true)\n",
      " |-- ball_control: string (nullable = true)\n",
      " |-- acceleration: string (nullable = true)\n",
      " |-- sprint_speed: string (nullable = true)\n",
      " |-- agility: string (nullable = true)\n",
      " |-- reactions: string (nullable = true)\n",
      " |-- balance: string (nullable = true)\n",
      " |-- shot_power: string (nullable = true)\n",
      " |-- jumping: string (nullable = true)\n",
      " |-- stamina: string (nullable = true)\n",
      " |-- strength: string (nullable = true)\n",
      " |-- long_shots: string (nullable = true)\n",
      " |-- aggression: string (nullable = true)\n",
      " |-- interceptions: string (nullable = true)\n",
      " |-- positioning: string (nullable = true)\n",
      " |-- vision: string (nullable = true)\n",
      " |-- penalties: string (nullable = true)\n",
      " |-- marking: string (nullable = true)\n",
      " |-- standing_tackle: string (nullable = true)\n",
      " |-- sliding_tackle: string (nullable = true)\n",
      " |-- gk_diving: string (nullable = true)\n",
      " |-- gk_handling: string (nullable = true)\n",
      " |-- gk_kicking: string (nullable = true)\n",
      " |-- gk_positioning: string (nullable = true)\n",
      " |-- gk_reflexes: string (nullable = true)\n",
      "\n"
     ]
    }
   ],
   "source": [
    "player_attributes.printSchema()"
   ]
  },
  {
   "cell_type": "code",
   "execution_count": 14,
   "metadata": {},
   "outputs": [
    {
     "name": "stdout",
     "output_type": "stream",
     "text": [
      "+---+------------------+-------------+-------------------+--------------+---------+--------------+-------------------+-------------------+--------+---------+----------------+-------------+-------+---------+-----+------------------+------------+------------+------------+------------+-------+---------+-------+----------+-------+-------+--------+----------+----------+-------------+-----------+------+---------+-------+---------------+--------------+---------+-----------+----------+--------------+-----------+\n",
      "| id|player_fifa_api_id|player_api_id|               date|overall_rating|potential|preferred_foot|attacking_work_rate|defensive_work_rate|crossing|finishing|heading_accuracy|short_passing|volleys|dribbling|curve|free_kick_accuracy|long_passing|ball_control|acceleration|sprint_speed|agility|reactions|balance|shot_power|jumping|stamina|strength|long_shots|aggression|interceptions|positioning|vision|penalties|marking|standing_tackle|sliding_tackle|gk_diving|gk_handling|gk_kicking|gk_positioning|gk_reflexes|\n",
      "+---+------------------+-------------+-------------------+--------------+---------+--------------+-------------------+-------------------+--------+---------+----------------+-------------+-------+---------+-----+------------------+------------+------------+------------+------------+-------+---------+-------+----------+-------+-------+--------+----------+----------+-------------+-----------+------+---------+-------+---------------+--------------+---------+-----------+----------+--------------+-----------+\n",
      "|  1|            218353|       505942|2016-02-18 00:00:00|            67|       71|         right|             medium|             medium|      49|       44|              71|           61|     44|       51|   45|                39|          64|          49|          60|          64|     59|       47|     65|        55|     58|     54|      76|        35|        71|           70|         45|    54|       48|     65|             69|            69|        6|         11|        10|             8|          8|\n",
      "|  2|            218353|       505942|2015-11-19 00:00:00|            67|       71|         right|             medium|             medium|      49|       44|              71|           61|     44|       51|   45|                39|          64|          49|          60|          64|     59|       47|     65|        55|     58|     54|      76|        35|        71|           70|         45|    54|       48|     65|             69|            69|        6|         11|        10|             8|          8|\n",
      "|  3|            218353|       505942|2015-09-21 00:00:00|            62|       66|         right|             medium|             medium|      49|       44|              71|           61|     44|       51|   45|                39|          64|          49|          60|          64|     59|       47|     65|        55|     58|     54|      76|        35|        63|           41|         45|    54|       48|     65|             66|            69|        6|         11|        10|             8|          8|\n",
      "|  4|            218353|       505942|2015-03-20 00:00:00|            61|       65|         right|             medium|             medium|      48|       43|              70|           60|     43|       50|   44|                38|          63|          48|          60|          64|     59|       46|     65|        54|     58|     54|      76|        34|        62|           40|         44|    53|       47|     62|             63|            66|        5|         10|         9|             7|          7|\n",
      "|  5|            218353|       505942|2007-02-22 00:00:00|            61|       65|         right|             medium|             medium|      48|       43|              70|           60|     43|       50|   44|                38|          63|          48|          60|          64|     59|       46|     65|        54|     58|     54|      76|        34|        62|           40|         44|    53|       47|     62|             63|            66|        5|         10|         9|             7|          7|\n",
      "+---+------------------+-------------+-------------------+--------------+---------+--------------+-------------------+-------------------+--------+---------+----------------+-------------+-------+---------+-----+------------------+------------+------------+------------+------------+-------+---------+-------+----------+-------+-------+--------+----------+----------+-------------+-----------+------+---------+-------+---------------+--------------+---------+-----------+----------+--------------+-----------+\n",
      "only showing top 5 rows\n",
      "\n"
     ]
    }
   ],
   "source": [
    "player_attributes.show(5)"
   ]
  },
  {
   "cell_type": "code",
   "execution_count": 15,
   "metadata": {},
   "outputs": [
    {
     "data": {
      "text/plain": [
       "(11060, 183978)"
      ]
     },
     "execution_count": 15,
     "metadata": {},
     "output_type": "execute_result"
    }
   ],
   "source": [
    "players.count(), player_attributes.count()"
   ]
  },
  {
   "cell_type": "code",
   "execution_count": 16,
   "metadata": {},
   "outputs": [
    {
     "data": {
      "text/plain": [
       "11060"
      ]
     },
     "execution_count": 16,
     "metadata": {},
     "output_type": "execute_result"
    }
   ],
   "source": [
    "player_attributes.select('player_api_id')\\\n",
    "                .distinct()\\\n",
    "                .count()"
   ]
  },
  {
   "cell_type": "code",
   "execution_count": 17,
   "metadata": {},
   "outputs": [
    {
     "data": {
      "text/plain": [
       "['player_api_id', 'player_name', 'birthday', 'height', 'weight']"
      ]
     },
     "execution_count": 17,
     "metadata": {},
     "output_type": "execute_result"
    }
   ],
   "source": [
    "players = players.drop('id', 'player_fifa_api_id')\n",
    "players.columns"
   ]
  },
  {
   "cell_type": "code",
   "execution_count": 20,
   "metadata": {},
   "outputs": [
    {
     "data": {
      "text/plain": [
       "['player_fifa_api_id',\n",
       " 'player_api_id',\n",
       " 'date',\n",
       " 'overall_rating',\n",
       " 'finishing',\n",
       " 'heading_accuracy',\n",
       " 'volleys',\n",
       " 'dribbling',\n",
       " 'curve',\n",
       " 'free_kick_accuracy',\n",
       " 'long_passing',\n",
       " 'ball_control',\n",
       " 'acceleration',\n",
       " 'agility',\n",
       " 'reactions',\n",
       " 'shot_power',\n",
       " 'stamina',\n",
       " 'strength',\n",
       " 'long_shots',\n",
       " 'interceptions',\n",
       " 'positioning',\n",
       " 'vision',\n",
       " 'penalties',\n",
       " 'marking',\n",
       " 'standing_tackle',\n",
       " 'sliding_tackle',\n",
       " 'gk_diving',\n",
       " 'gk_handling',\n",
       " 'gk_kicking',\n",
       " 'gk_positioning',\n",
       " 'gk_reflexes']"
      ]
     },
     "execution_count": 20,
     "metadata": {},
     "output_type": "execute_result"
    }
   ],
   "source": [
    "player_attributes = player_attributes.drop(\n",
    "    'id',\n",
    "    'player_fifa_api_)id',\n",
    "    'preferred_foot',\n",
    "    'attacking_work_rate',\n",
    "    'defensive_work_rate',\n",
    "    'crossing',\n",
    "    'jumping',\n",
    "    'sprint_speed',\n",
    "    'balance',\n",
    "    'aggression',\n",
    "    'short_passing',\n",
    "    'potential')\n",
    "player_attributes.columns"
   ]
  },
  {
   "cell_type": "code",
   "execution_count": 21,
   "metadata": {},
   "outputs": [],
   "source": [
    "player_attributes = player_attributes.dropna()\n",
    "players = players.dropna()"
   ]
  },
  {
   "cell_type": "code",
   "execution_count": 22,
   "metadata": {},
   "outputs": [
    {
     "data": {
      "text/plain": [
       "(11060, 181265)"
      ]
     },
     "execution_count": 22,
     "metadata": {},
     "output_type": "execute_result"
    }
   ],
   "source": [
    "players.count(), player_attributes.count()"
   ]
  },
  {
   "cell_type": "code",
   "execution_count": 24,
   "metadata": {},
   "outputs": [],
   "source": [
    "from pyspark.sql.functions import udf"
   ]
  },
  {
   "cell_type": "code",
   "execution_count": 26,
   "metadata": {},
   "outputs": [],
   "source": [
    "year_extract_udf = udf(lambda data: data.split('-')[0])\n",
    "player_attributes = player_attributes.withColumn(\n",
    "    'year',\n",
    "    year_extract_udf(player_attributes.date))"
   ]
  },
  {
   "cell_type": "code",
   "execution_count": 27,
   "metadata": {},
   "outputs": [],
   "source": [
    "player_attributes = player_attributes.drop('date')"
   ]
  },
  {
   "cell_type": "code",
   "execution_count": 28,
   "metadata": {},
   "outputs": [
    {
     "data": {
      "text/plain": [
       "['player_fifa_api_id',\n",
       " 'player_api_id',\n",
       " 'overall_rating',\n",
       " 'finishing',\n",
       " 'heading_accuracy',\n",
       " 'volleys',\n",
       " 'dribbling',\n",
       " 'curve',\n",
       " 'free_kick_accuracy',\n",
       " 'long_passing',\n",
       " 'ball_control',\n",
       " 'acceleration',\n",
       " 'agility',\n",
       " 'reactions',\n",
       " 'shot_power',\n",
       " 'stamina',\n",
       " 'strength',\n",
       " 'long_shots',\n",
       " 'interceptions',\n",
       " 'positioning',\n",
       " 'vision',\n",
       " 'penalties',\n",
       " 'marking',\n",
       " 'standing_tackle',\n",
       " 'sliding_tackle',\n",
       " 'gk_diving',\n",
       " 'gk_handling',\n",
       " 'gk_kicking',\n",
       " 'gk_positioning',\n",
       " 'gk_reflexes',\n",
       " 'year']"
      ]
     },
     "execution_count": 28,
     "metadata": {},
     "output_type": "execute_result"
    }
   ],
   "source": [
    "player_attributes.columns"
   ]
  },
  {
   "cell_type": "code",
   "execution_count": 29,
   "metadata": {},
   "outputs": [],
   "source": [
    "pa_2016 = player_attributes.filter(player_attributes.year==2016)"
   ]
  },
  {
   "cell_type": "code",
   "execution_count": 30,
   "metadata": {},
   "outputs": [
    {
     "data": {
      "text/plain": [
       "14098"
      ]
     },
     "execution_count": 30,
     "metadata": {},
     "output_type": "execute_result"
    }
   ],
   "source": [
    "pa_2016.count()"
   ]
  },
  {
   "cell_type": "code",
   "execution_count": 31,
   "metadata": {},
   "outputs": [
    {
     "data": {
      "text/plain": [
       "5586"
      ]
     },
     "execution_count": 31,
     "metadata": {},
     "output_type": "execute_result"
    }
   ],
   "source": [
    "pa_2016.select(pa_2016.player_api_id)\\\n",
    "    .distinct()\\\n",
    "    .count()"
   ]
  },
  {
   "cell_type": "code",
   "execution_count": 32,
   "metadata": {},
   "outputs": [],
   "source": [
    "pa_striker_2016 = pa_2016.groupBy('player_api_id')\\\n",
    "    .agg({\n",
    "        'finishing': 'avg',\n",
    "        'shot_power': 'avg',\n",
    "        'acceleration': 'avg',\n",
    "    })"
   ]
  },
  {
   "cell_type": "code",
   "execution_count": 33,
   "metadata": {},
   "outputs": [
    {
     "data": {
      "text/plain": [
       "5586"
      ]
     },
     "execution_count": 33,
     "metadata": {},
     "output_type": "execute_result"
    }
   ],
   "source": [
    "pa_striker_2016.count()"
   ]
  },
  {
   "cell_type": "code",
   "execution_count": 34,
   "metadata": {},
   "outputs": [
    {
     "name": "stdout",
     "output_type": "stream",
     "text": [
      "+-------------+-----------------+-----------------+---------------+\n",
      "|player_api_id|   avg(finishing)|avg(acceleration)|avg(shot_power)|\n",
      "+-------------+-----------------+-----------------+---------------+\n",
      "|       309726|75.44444444444444|74.11111111111111|           76.0|\n",
      "|        26112|             53.0|             51.0|           76.0|\n",
      "|        38433|            68.25|             74.0|           74.0|\n",
      "|       295060|             25.0|             62.0|           40.0|\n",
      "|       161396|             29.0|             72.0|           69.0|\n",
      "+-------------+-----------------+-----------------+---------------+\n",
      "only showing top 5 rows\n",
      "\n"
     ]
    }
   ],
   "source": [
    "pa_striker_2016.show(5)"
   ]
  },
  {
   "cell_type": "code",
   "execution_count": 40,
   "metadata": {},
   "outputs": [],
   "source": [
    "pa_striker_2016 = pa_striker_2016.withColumnRenamed('avg(finishing)', 'finishing')\\\n",
    "                                .withColumnRenamed('avg(shot_power)', 'shot_power')\\\n",
    "                                .withColumnRenamed('avg(acceleration)', 'acceleration')"
   ]
  },
  {
   "cell_type": "code",
   "execution_count": 41,
   "metadata": {},
   "outputs": [],
   "source": [
    "weight_finishing = 1\n",
    "weight_shot_power = 2\n",
    "weight_acceleration = 1\n",
    "\n",
    "total_weight = weight_finishing + weight_shot_power + weight_acceleration"
   ]
  },
  {
   "cell_type": "code",
   "execution_count": 42,
   "metadata": {},
   "outputs": [],
   "source": [
    "strikers = pa_striker_2016.withColumn('striker_grade',\n",
    "                                        (pa_striker_2016.finishing * weight_finishing + \\\n",
    "                                         pa_striker_2016.shot_power * weight_shot_power + \\\n",
    "                                        pa_striker_2016.acceleration * weight_acceleration)/ \\\n",
    "                                         total_weight)"
   ]
  },
  {
   "cell_type": "code",
   "execution_count": 43,
   "metadata": {},
   "outputs": [],
   "source": [
    "strikers = strikers.drop('finishing', 'acceleration', 'shot_power')"
   ]
  },
  {
   "cell_type": "code",
   "execution_count": 44,
   "metadata": {},
   "outputs": [],
   "source": [
    "strikers = strikers.filter(strikers.striker_grade > 70)\\\n",
    "                    .sort(strikers.striker_grade.desc())"
   ]
  },
  {
   "cell_type": "code",
   "execution_count": 45,
   "metadata": {},
   "outputs": [
    {
     "name": "stdout",
     "output_type": "stream",
     "text": [
      "+-------------+-----------------+\n",
      "|player_api_id|    striker_grade|\n",
      "+-------------+-----------------+\n",
      "|        20276|            89.25|\n",
      "|        37412|             89.0|\n",
      "|        38817|            88.75|\n",
      "|        32118|            88.25|\n",
      "|        31921|             87.0|\n",
      "|        30834|            86.75|\n",
      "|       303824|85.10714285714286|\n",
      "|       129944|             85.0|\n",
      "|       158263|            84.75|\n",
      "|       150565|            84.75|\n",
      "|        25759|84.66666666666667|\n",
      "|       156726|             84.5|\n",
      "|       169193|          84.4375|\n",
      "|       286119|84.42857142857143|\n",
      "|        30348|           84.375|\n",
      "|        93447|            84.25|\n",
      "|        50047|            84.25|\n",
      "|        46509|            84.25|\n",
      "|       178812|             84.0|\n",
      "|       181276|             84.0|\n",
      "+-------------+-----------------+\n",
      "only showing top 20 rows\n",
      "\n"
     ]
    }
   ],
   "source": [
    "strikers.show(20)"
   ]
  },
  {
   "cell_type": "code",
   "execution_count": 54,
   "metadata": {},
   "outputs": [
    {
     "data": {
      "text/plain": [
       "(1609, 11060)"
      ]
     },
     "execution_count": 54,
     "metadata": {},
     "output_type": "execute_result"
    }
   ],
   "source": [
    "strikers.count(), players.count()"
   ]
  },
  {
   "cell_type": "code",
   "execution_count": 55,
   "metadata": {},
   "outputs": [],
   "source": [
    "striker_details = players.join(strikers, players.player_api_id == strikers.player_api_id)"
   ]
  },
  {
   "cell_type": "code",
   "execution_count": 58,
   "metadata": {},
   "outputs": [
    {
     "data": {
      "text/plain": [
       "['player_api_id',\n",
       " 'player_name',\n",
       " 'birthday',\n",
       " 'height',\n",
       " 'weight',\n",
       " 'player_api_id',\n",
       " 'striker_grade']"
      ]
     },
     "execution_count": 58,
     "metadata": {},
     "output_type": "execute_result"
    }
   ],
   "source": [
    "striker_details.columns"
   ]
  },
  {
   "cell_type": "code",
   "execution_count": 59,
   "metadata": {},
   "outputs": [
    {
     "name": "stdout",
     "output_type": "stream",
     "text": [
      "+-------------+--------------------+-------------------+------+------+-------------+-----------------+\n",
      "|player_api_id|         player_name|           birthday|height|weight|player_api_id|    striker_grade|\n",
      "+-------------+--------------------+-------------------+------+------+-------------+-----------------+\n",
      "|        20276|                Hulk|1986-07-25 00:00:00|180.34|   187|        20276|            89.25|\n",
      "|        37412|       Sergio Aguero|1988-06-02 00:00:00|172.72|   163|        37412|             89.0|\n",
      "|        38817|        Carlos Tevez|1984-02-05 00:00:00|172.72|   157|        38817|            88.75|\n",
      "|        32118|      Lukas Podolski|1985-06-04 00:00:00|182.88|   183|        32118|            88.25|\n",
      "|        31921|         Gareth Bale|1989-07-16 00:00:00|182.88|   163|        31921|             87.0|\n",
      "|        30834|        Arjen Robben|1984-01-23 00:00:00|180.34|   176|        30834|            86.75|\n",
      "|       303824|       Memphis Depay|1994-02-13 00:00:00|175.26|   172|       303824|85.10714285714286|\n",
      "|       129944|          Marco Reus|1989-05-31 00:00:00|180.34|   165|       129944|             85.0|\n",
      "|       158263|        Dorlan Pabon|1988-01-24 00:00:00|167.64|   161|       158263|            84.75|\n",
      "|       150565|Pierre-Emerick Au...|1989-06-18 00:00:00|187.96|   176|       150565|            84.75|\n",
      "+-------------+--------------------+-------------------+------+------+-------------+-----------------+\n",
      "only showing top 10 rows\n",
      "\n"
     ]
    }
   ],
   "source": [
    "striker_details.show(10)"
   ]
  },
  {
   "cell_type": "code",
   "execution_count": 60,
   "metadata": {},
   "outputs": [],
   "source": [
    "striker_details = players.join(strikers, ['player_api_id'])"
   ]
  },
  {
   "cell_type": "code",
   "execution_count": 61,
   "metadata": {},
   "outputs": [
    {
     "data": {
      "text/plain": [
       "['player_api_id',\n",
       " 'player_name',\n",
       " 'birthday',\n",
       " 'height',\n",
       " 'weight',\n",
       " 'striker_grade']"
      ]
     },
     "execution_count": 61,
     "metadata": {},
     "output_type": "execute_result"
    }
   ],
   "source": [
    "striker_details.columns"
   ]
  },
  {
   "cell_type": "code",
   "execution_count": 62,
   "metadata": {},
   "outputs": [],
   "source": [
    "striker_details.select('player_name', 'striker_grade')\\\n",
    "                .coalesce(1)\\\n",
    "                .write\\\n",
    "                .option('header', 'true')\\\n",
    "                .csv('striker_grade.csv')"
   ]
  },
  {
   "cell_type": "code",
   "execution_count": 66,
   "metadata": {},
   "outputs": [],
   "source": [
    "striker_details.select('player_name', 'striker_grade')\\\n",
    "                .write\\\n",
    "                .json('striker_grade.json')"
   ]
  },
  {
   "cell_type": "code",
   "execution_count": 68,
   "metadata": {},
   "outputs": [],
   "source": [
    "valuesA = [('John', 100000), ('James', 150000), ('Emily', 65000), ('Nina', 200000)]\n",
    "tableA = spark.createDataFrame(valuesA, ['name', 'salary'])"
   ]
  },
  {
   "cell_type": "code",
   "execution_count": 69,
   "metadata": {},
   "outputs": [
    {
     "name": "stdout",
     "output_type": "stream",
     "text": [
      "+-----+------+\n",
      "| name|salary|\n",
      "+-----+------+\n",
      "| John|100000|\n",
      "|James|150000|\n",
      "|Emily| 65000|\n",
      "| Nina|200000|\n",
      "+-----+------+\n",
      "\n"
     ]
    }
   ],
   "source": [
    "tableA.show()"
   ]
  },
  {
   "cell_type": "code",
   "execution_count": 72,
   "metadata": {},
   "outputs": [],
   "source": [
    "valuesB = [('James', 2), ('Emily', 3), ('Darth Vader', 5), ('Princess Leia', 6)]\n",
    "tableB = spark.createDataFrame(valuesB, ['name', 'employee_id'])"
   ]
  },
  {
   "cell_type": "code",
   "execution_count": 73,
   "metadata": {},
   "outputs": [
    {
     "name": "stdout",
     "output_type": "stream",
     "text": [
      "+-------------+-----------+\n",
      "|         name|employee_id|\n",
      "+-------------+-----------+\n",
      "|        James|          2|\n",
      "|        Emily|          3|\n",
      "|  Darth Vader|          5|\n",
      "|Princess Leia|          6|\n",
      "+-------------+-----------+\n",
      "\n"
     ]
    }
   ],
   "source": [
    "tableB.show()"
   ]
  },
  {
   "cell_type": "code",
   "execution_count": 74,
   "metadata": {},
   "outputs": [
    {
     "name": "stdout",
     "output_type": "stream",
     "text": [
      "+-----+------+-----+-----------+\n",
      "| name|salary| name|employee_id|\n",
      "+-----+------+-----+-----------+\n",
      "|James|150000|James|          2|\n",
      "|Emily| 65000|Emily|          3|\n",
      "+-----+------+-----+-----------+\n",
      "\n"
     ]
    }
   ],
   "source": [
    "inner_join =tableA.join(tableB, tableA.name == tableB.name)\n",
    "inner_join.show()"
   ]
  },
  {
   "cell_type": "code",
   "execution_count": 75,
   "metadata": {},
   "outputs": [
    {
     "name": "stdout",
     "output_type": "stream",
     "text": [
      "+-----+------+-----+-----------+\n",
      "| name|salary| name|employee_id|\n",
      "+-----+------+-----+-----------+\n",
      "|James|150000|James|          2|\n",
      "| John|100000| null|       null|\n",
      "|Emily| 65000|Emily|          3|\n",
      "| Nina|200000| null|       null|\n",
      "+-----+------+-----+-----------+\n",
      "\n"
     ]
    }
   ],
   "source": [
    "left_join =tableA.join(tableB, tableA.name == tableB.name, how = 'left')\n",
    "left_join.show()"
   ]
  },
  {
   "cell_type": "code",
   "execution_count": 76,
   "metadata": {},
   "outputs": [
    {
     "name": "stdout",
     "output_type": "stream",
     "text": [
      "+-----+------+-------------+-----------+\n",
      "| name|salary|         name|employee_id|\n",
      "+-----+------+-------------+-----------+\n",
      "|James|150000|        James|          2|\n",
      "| null|  null|Princess Leia|          6|\n",
      "|Emily| 65000|        Emily|          3|\n",
      "| null|  null|  Darth Vader|          5|\n",
      "+-----+------+-------------+-----------+\n",
      "\n"
     ]
    }
   ],
   "source": [
    "left_join =tableA.join(tableB, tableA.name == tableB.name, how = 'right')\n",
    "left_join.show()"
   ]
  },
  {
   "cell_type": "code",
   "execution_count": 78,
   "metadata": {},
   "outputs": [
    {
     "name": "stdout",
     "output_type": "stream",
     "text": [
      "+-----+------+-------------+-----------+\n",
      "| name|salary|         name|employee_id|\n",
      "+-----+------+-------------+-----------+\n",
      "|James|150000|        James|          2|\n",
      "| John|100000|         null|       null|\n",
      "| null|  null|Princess Leia|          6|\n",
      "|Emily| 65000|        Emily|          3|\n",
      "| Nina|200000|         null|       null|\n",
      "| null|  null|  Darth Vader|          5|\n",
      "+-----+------+-------------+-----------+\n",
      "\n"
     ]
    }
   ],
   "source": [
    "left_join =tableA.join(tableB, tableA.name == tableB.name, how = 'outer')\n",
    "left_join.show()"
   ]
  },
  {
   "cell_type": "code",
   "execution_count": 79,
   "metadata": {},
   "outputs": [
    {
     "name": "stdout",
     "output_type": "stream",
     "text": [
      "+-----+------+-------------+-----------+\n",
      "| name|salary|         name|employee_id|\n",
      "+-----+------+-------------+-----------+\n",
      "|James|150000|        James|          2|\n",
      "| John|100000|         null|       null|\n",
      "| null|  null|Princess Leia|          6|\n",
      "|Emily| 65000|        Emily|          3|\n",
      "| Nina|200000|         null|       null|\n",
      "| null|  null|  Darth Vader|          5|\n",
      "+-----+------+-------------+-----------+\n",
      "\n"
     ]
    }
   ],
   "source": [
    "left_join =tableA.join(tableB, tableA.name == tableB.name, how = 'full')\n",
    "left_join.show()"
   ]
  },
  {
   "cell_type": "code",
   "execution_count": null,
   "metadata": {},
   "outputs": [],
   "source": []
  }
 ],
 "metadata": {
  "kernelspec": {
   "display_name": "Python 3",
   "language": "python",
   "name": "python3"
  },
  "language_info": {
   "codemirror_mode": {
    "name": "ipython",
    "version": 3
   },
   "file_extension": ".py",
   "mimetype": "text/x-python",
   "name": "python",
   "nbconvert_exporter": "python",
   "pygments_lexer": "ipython3",
   "version": "3.7.6"
  }
 },
 "nbformat": 4,
 "nbformat_minor": 2
}
