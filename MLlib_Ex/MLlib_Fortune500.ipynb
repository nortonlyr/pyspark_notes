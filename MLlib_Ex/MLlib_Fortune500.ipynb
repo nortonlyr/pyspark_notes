{
 "cells": [
  {
   "cell_type": "code",
   "execution_count": 1,
   "id": "8416b569",
   "metadata": {},
   "outputs": [],
   "source": [
    "from pyspark import SparkConf, SparkContext\n",
    "from pyspark.sql import SQLContext"
   ]
  },
  {
   "cell_type": "code",
   "execution_count": 2,
   "id": "dba6d98d",
   "metadata": {},
   "outputs": [
    {
     "data": {
      "text/html": [
       "\n",
       "        <div>\n",
       "            <p><b>SparkContext</b></p>\n",
       "\n",
       "            <p><a href=\"http://nortons-mbp.home:4042\">Spark UI</a></p>\n",
       "\n",
       "            <dl>\n",
       "              <dt>Version</dt>\n",
       "                <dd><code>v3.1.2</code></dd>\n",
       "              <dt>Master</dt>\n",
       "                <dd><code>local[*]</code></dd>\n",
       "              <dt>AppName</dt>\n",
       "                <dd><code>PySparkShell</code></dd>\n",
       "            </dl>\n",
       "        </div>\n",
       "        "
      ],
      "text/plain": [
       "<SparkContext master=local[*] appName=PySparkShell>"
      ]
     },
     "execution_count": 2,
     "metadata": {},
     "output_type": "execute_result"
    }
   ],
   "source": [
    "sc"
   ]
  },
  {
   "cell_type": "code",
   "execution_count": 3,
   "id": "97a9df83",
   "metadata": {},
   "outputs": [],
   "source": [
    "fortune500_df = sqlContext.read.format('com.databricks.spark.csv')\\\n",
    "                            .options(header='true', inferschema='true')\\\n",
    "                            .load('Fortune_500_2017.csv')"
   ]
  },
  {
   "cell_type": "code",
   "execution_count": 4,
   "id": "04b15a92",
   "metadata": {},
   "outputs": [
    {
     "name": "stdout",
     "output_type": "stream",
     "text": [
      "+----+------------------+--------------------+---------+----------+--------------------+---------------+-------------------+-----------+-------+-----+------------+-------------------+--------------------+--------------------+------+--------------------+--------+---------+-------+----------+--------+-----------+\n",
      "|Rank|             Title|             Website|Employees|    Sector|            Industry|     Hqlocation|             Hqaddr|     Hqcity|Hqstate|Hqzip|       Hqtel|                Ceo|           Ceo-title|             Address|Ticker|            Fullname|Revenues|Revchange|Profits|Prftchange|  Assets|Totshequity|\n",
      "+----+------------------+--------------------+---------+----------+--------------------+---------------+-------------------+-----------+-------+-----+------------+-------------------+--------------------+--------------------+------+--------------------+--------+---------+-------+----------+--------+-----------+\n",
      "|   1|           Walmart|http://www.walmar...|  2300000| Retailing|General Merchandi...|Bentonville, AR|702 S.W. Eighth St.|Bentonville|     AR|72716|479-273-4000|C. Douglas McMillon|President, Chief ...|702 S.W. Eighth S...|   WMT|Wal-Mart Stores, ...|  485873|      0.8|13643.0|      -7.2|198825.0|    77798.0|\n",
      "|   2|Berkshire Hathaway|http://www.berksh...|   367700|Financials|Insurance: Proper...|      Omaha, NE|    3555 Farnam St.|      Omaha|     NE|68131|402-346-1400|  Warren E. Buffett|Chairman & Chief ...|3555 Farnam St., ...|  BRKA|Berkshire Hathawa...|  223604|      6.1|24074.0|         0|620854.0|   283001.0|\n",
      "+----+------------------+--------------------+---------+----------+--------------------+---------------+-------------------+-----------+-------+-----+------------+-------------------+--------------------+--------------------+------+--------------------+--------+---------+-------+----------+--------+-----------+\n",
      "only showing top 2 rows\n",
      "\n"
     ]
    }
   ],
   "source": [
    "fortune500_df.show(2)"
   ]
  },
  {
   "cell_type": "code",
   "execution_count": 5,
   "id": "e683bab4",
   "metadata": {},
   "outputs": [],
   "source": [
    "fortune500_df2 = spark.read.format('csv')\\\n",
    "                            .options(header='true', inferschema='true')\\\n",
    "                            .load('Fortune_500_2017.csv')"
   ]
  },
  {
   "cell_type": "code",
   "execution_count": 6,
   "id": "acf62acd",
   "metadata": {},
   "outputs": [
    {
     "name": "stdout",
     "output_type": "stream",
     "text": [
      "+----+------------------+--------------------+---------+----------+--------------------+---------------+-------------------+-----------+-------+-----+------------+-------------------+--------------------+--------------------+------+--------------------+--------+---------+-------+----------+--------+-----------+\n",
      "|Rank|             Title|             Website|Employees|    Sector|            Industry|     Hqlocation|             Hqaddr|     Hqcity|Hqstate|Hqzip|       Hqtel|                Ceo|           Ceo-title|             Address|Ticker|            Fullname|Revenues|Revchange|Profits|Prftchange|  Assets|Totshequity|\n",
      "+----+------------------+--------------------+---------+----------+--------------------+---------------+-------------------+-----------+-------+-----+------------+-------------------+--------------------+--------------------+------+--------------------+--------+---------+-------+----------+--------+-----------+\n",
      "|   1|           Walmart|http://www.walmar...|  2300000| Retailing|General Merchandi...|Bentonville, AR|702 S.W. Eighth St.|Bentonville|     AR|72716|479-273-4000|C. Douglas McMillon|President, Chief ...|702 S.W. Eighth S...|   WMT|Wal-Mart Stores, ...|  485873|      0.8|13643.0|      -7.2|198825.0|    77798.0|\n",
      "|   2|Berkshire Hathaway|http://www.berksh...|   367700|Financials|Insurance: Proper...|      Omaha, NE|    3555 Farnam St.|      Omaha|     NE|68131|402-346-1400|  Warren E. Buffett|Chairman & Chief ...|3555 Farnam St., ...|  BRKA|Berkshire Hathawa...|  223604|      6.1|24074.0|         0|620854.0|   283001.0|\n",
      "|   3|             Apple|http://www.apple.com|   116000|Technology|Computers, Office...|  Cupertino, CA|    1 Infinite Loop|  Cupertino|     CA|95014|408-996-1010|    Timothy D. Cook|Chief Executive O...|1 Infinite Loop, ...|  AAPL|         Apple, Inc.|  215639|     -7.7|45687.0|     -14.4|321686.0|   128249.0|\n",
      "+----+------------------+--------------------+---------+----------+--------------------+---------------+-------------------+-----------+-------+-----+------------+-------------------+--------------------+--------------------+------+--------------------+--------+---------+-------+----------+--------+-----------+\n",
      "only showing top 3 rows\n",
      "\n"
     ]
    }
   ],
   "source": [
    "fortune500_df2.show(3)"
   ]
  },
  {
   "cell_type": "code",
   "execution_count": null,
   "id": "f116ca8e",
   "metadata": {},
   "outputs": [],
   "source": []
  }
 ],
 "metadata": {
  "kernelspec": {
   "display_name": "Python 3",
   "language": "python",
   "name": "python3"
  },
  "language_info": {
   "codemirror_mode": {
    "name": "ipython",
    "version": 3
   },
   "file_extension": ".py",
   "mimetype": "text/x-python",
   "name": "python",
   "nbconvert_exporter": "python",
   "pygments_lexer": "ipython3",
   "version": "3.8.8"
  }
 },
 "nbformat": 4,
 "nbformat_minor": 5
}
