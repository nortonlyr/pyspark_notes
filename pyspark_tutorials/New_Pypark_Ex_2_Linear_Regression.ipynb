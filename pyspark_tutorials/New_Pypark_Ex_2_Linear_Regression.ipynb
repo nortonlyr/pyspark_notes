{
 "cells": [
  {
   "cell_type": "markdown",
   "metadata": {},
   "source": [
    "### Cruise Ship Crew Size Prediction"
   ]
  },
  {
   "cell_type": "markdown",
   "metadata": {},
   "source": [
    "Congratulations! You've been contracted by Hyundai Heavy Industries to help them build a predictive model for some ships. Hyundai Heavy Industries is one of the world's largest ship manufacturing companies and builds cruise liners.\n",
    "\n",
    "You've been flown to their headquarters in Ulsan, South Korea to help them give accurate estimates of how many crew members a ship will require.\n",
    "\n",
    "They are currently building new ships for some customers and want you to create a model and use it to predict how many crew members the ships will need.\n",
    "\n",
    "Here is what the data looks like so far:\n",
    "\n",
    "Description: Measurements of ship size, capacity, crew, and age for 158 cruise\n",
    "ships.\n",
    "\n",
    "Variables/Columns <br>\n",
    "Ship Name     1-20 <br>\n",
    "Cruise Line   21-40 <br>\n",
    "Age (as of 2013)   46-48 <br>\n",
    "Tonnage (1000s of tons)   50-56 <br>\n",
    "passengers (100s)   58-64 <br>\n",
    "Length (100s of feet)  66-72 <br>\n",
    "Cabins  (100s)   74-80 <br>\n",
    "Passenger Density   82-88 <br>\n",
    "Crew  (100s)   90-96"
   ]
  },
  {
   "cell_type": "code",
   "execution_count": 1,
   "metadata": {},
   "outputs": [
    {
     "data": {
      "text/html": [
       "<style>.container{width:100% !imporant;}</style>"
      ],
      "text/plain": [
       "<IPython.core.display.HTML object>"
      ]
     },
     "metadata": {},
     "output_type": "display_data"
    }
   ],
   "source": [
    "from IPython.core.display import display, HTML\n",
    "display(HTML(\"<style>.container{width:100% !imporant;}</style>\"))"
   ]
  },
  {
   "cell_type": "code",
   "execution_count": 2,
   "metadata": {},
   "outputs": [],
   "source": [
    "# import\n",
    "from pyspark.sql import SparkSession\n",
    "import seaborn as sns\n",
    "%matplotlib inline"
   ]
  },
  {
   "cell_type": "code",
   "execution_count": 3,
   "metadata": {},
   "outputs": [],
   "source": [
    "# Start Spark Session\n",
    "spark = SparkSession.builder.appName('Linear_Regression').getOrCreate()"
   ]
  },
  {
   "cell_type": "code",
   "execution_count": 4,
   "metadata": {},
   "outputs": [],
   "source": [
    "# Read Data\n",
    "df = spark.read.csv('cruise_ship_info.csv', inferSchema=True, header=True)"
   ]
  },
  {
   "cell_type": "code",
   "execution_count": 5,
   "metadata": {},
   "outputs": [
    {
     "name": "stdout",
     "output_type": "stream",
     "text": [
      "+-------------+-----------+---+------------------+----------+------+------+-----------------+-----+\n",
      "|    Ship_name|Cruise_line|Age|           Tonnage|passengers|length|cabins|passenger_density| crew|\n",
      "+-------------+-----------+---+------------------+----------+------+------+-----------------+-----+\n",
      "|      Journey|    Azamara|  6|30.276999999999997|      6.94|  5.94|  3.55|            42.64| 3.55|\n",
      "|        Quest|    Azamara|  6|30.276999999999997|      6.94|  5.94|  3.55|            42.64| 3.55|\n",
      "|  Celebration|   Carnival| 26|            47.262|     14.86|  7.22|  7.43|             31.8|  6.7|\n",
      "|     Conquest|   Carnival| 11|             110.0|     29.74|  9.53| 14.88|            36.99| 19.1|\n",
      "|      Destiny|   Carnival| 17|           101.353|     26.42|  8.92| 13.21|            38.36| 10.0|\n",
      "|      Ecstasy|   Carnival| 22|            70.367|     20.52|  8.55|  10.2|            34.29|  9.2|\n",
      "|      Elation|   Carnival| 15|            70.367|     20.52|  8.55|  10.2|            34.29|  9.2|\n",
      "|      Fantasy|   Carnival| 23|            70.367|     20.56|  8.55| 10.22|            34.23|  9.2|\n",
      "|  Fascination|   Carnival| 19|            70.367|     20.52|  8.55|  10.2|            34.29|  9.2|\n",
      "|      Freedom|   Carnival|  6|110.23899999999999|      37.0|  9.51| 14.87|            29.79| 11.5|\n",
      "|        Glory|   Carnival| 10|             110.0|     29.74|  9.51| 14.87|            36.99| 11.6|\n",
      "|      Holiday|   Carnival| 28|            46.052|     14.52|  7.27|  7.26|            31.72|  6.6|\n",
      "|  Imagination|   Carnival| 18|            70.367|     20.52|  8.55|  10.2|            34.29|  9.2|\n",
      "|  Inspiration|   Carnival| 17|            70.367|     20.52|  8.55|  10.2|            34.29|  9.2|\n",
      "|       Legend|   Carnival| 11|              86.0|     21.24|  9.63| 10.62|            40.49|  9.3|\n",
      "|     Liberty*|   Carnival|  8|             110.0|     29.74|  9.51| 14.87|            36.99| 11.6|\n",
      "|      Miracle|   Carnival|  9|              88.5|     21.24|  9.63| 10.62|            41.67| 10.3|\n",
      "|     Paradise|   Carnival| 15|            70.367|     20.52|  8.55|  10.2|            34.29|  9.2|\n",
      "|        Pride|   Carnival| 12|              88.5|     21.24|  9.63| 11.62|            41.67|  9.3|\n",
      "|    Sensation|   Carnival| 20|            70.367|     20.52|  8.55|  10.2|            34.29|  9.2|\n",
      "|       Spirit|   Carnival| 12|              88.5|     21.24|  9.63| 10.56|            41.67|10.29|\n",
      "|      Triumph|   Carnival| 14|           101.509|     27.58|  8.93| 13.21|            36.81| 10.0|\n",
      "|        Valor|   Carnival|  9|             110.0|     29.74|  9.52| 14.87|            36.99| 11.6|\n",
      "|      Victory|   Carnival| 13|           101.509|     27.58|  8.93| 13.79|            36.81| 11.5|\n",
      "|      Century|  Celebrity| 18| 70.60600000000001|      17.7|  8.15|  8.75|            39.89| 8.58|\n",
      "|Constellation|  Celebrity| 11|              91.0|     20.32|  9.65|  9.75|            44.78| 9.99|\n",
      "|       Galaxy|  Celebrity| 17| 77.71300000000001|      18.9|  8.66|  9.35|            41.12| 9.09|\n",
      "|     Infinity|  Celebrity| 12|              91.0|     20.32|  9.65|  9.75|            44.78| 9.99|\n",
      "|      Mercury|  Celebrity| 16| 77.71300000000001|     18.82|  8.66|  9.35|            41.29| 9.09|\n",
      "|    Millenium|  Celebrity| 13|              91.0|     20.32|  9.65|  9.75|            44.78| 9.99|\n",
      "+-------------+-----------+---+------------------+----------+------+------+-----------------+-----+\n",
      "only showing top 30 rows\n",
      "\n"
     ]
    }
   ],
   "source": [
    "# View Data\n",
    "df.show(30)"
   ]
  },
  {
   "cell_type": "code",
   "execution_count": 6,
   "metadata": {},
   "outputs": [
    {
     "name": "stdout",
     "output_type": "stream",
     "text": [
      "root\n",
      " |-- Ship_name: string (nullable = true)\n",
      " |-- Cruise_line: string (nullable = true)\n",
      " |-- Age: integer (nullable = true)\n",
      " |-- Tonnage: double (nullable = true)\n",
      " |-- passengers: double (nullable = true)\n",
      " |-- length: double (nullable = true)\n",
      " |-- cabins: double (nullable = true)\n",
      " |-- passenger_density: double (nullable = true)\n",
      " |-- crew: double (nullable = true)\n",
      "\n"
     ]
    }
   ],
   "source": [
    "df.printSchema()"
   ]
  },
  {
   "cell_type": "markdown",
   "metadata": {},
   "source": [
    "### Split Data to avoid contamination"
   ]
  },
  {
   "cell_type": "code",
   "execution_count": 7,
   "metadata": {},
   "outputs": [],
   "source": [
    "train_data, test_data = df.randomSplit([.8, .2])"
   ]
  },
  {
   "cell_type": "code",
   "execution_count": 8,
   "metadata": {},
   "outputs": [
    {
     "data": {
      "text/plain": [
       "123"
      ]
     },
     "execution_count": 8,
     "metadata": {},
     "output_type": "execute_result"
    }
   ],
   "source": [
    "train_data.count()"
   ]
  },
  {
   "cell_type": "code",
   "execution_count": 9,
   "metadata": {},
   "outputs": [
    {
     "data": {
      "text/plain": [
       "35"
      ]
     },
     "execution_count": 9,
     "metadata": {},
     "output_type": "execute_result"
    }
   ],
   "source": [
    "test_data.count()"
   ]
  },
  {
   "cell_type": "markdown",
   "metadata": {},
   "source": [
    "### Quick Analysis"
   ]
  },
  {
   "cell_type": "code",
   "execution_count": 10,
   "metadata": {},
   "outputs": [
    {
     "name": "stdout",
     "output_type": "stream",
     "text": [
      "+-------+---------+-----------+-----------------+-----------------+------------------+------------------+-----------------+-----------------+-----------------+\n",
      "|summary|Ship_name|Cruise_line|              Age|          Tonnage|        passengers|            length|           cabins|passenger_density|             crew|\n",
      "+-------+---------+-----------+-----------------+-----------------+------------------+------------------+-----------------+-----------------+-----------------+\n",
      "|  count|      123|        123|              123|              123|               123|               123|              123|              123|              123|\n",
      "|   mean| Infinity|       null|             16.0|70.65356097560978|18.406991869918702| 8.120243902439018|8.853658536585371|39.84439024390245|7.849756097560982|\n",
      "| stddev|      NaN|       null|7.461375955381217|34.87076260599573|   9.1386755089187|1.7066213690801602|4.196594104648237|8.720703662609552|3.324048357200538|\n",
      "|    min|Adventure|    Azamara|                5|            2.329|              0.66|               2.8|             0.33|             17.7|             0.59|\n",
      "|    max|Zuiderdam|   Windstar|               48|            158.0|              43.7|             11.32|             18.0|            71.43|             19.1|\n",
      "+-------+---------+-----------+-----------------+-----------------+------------------+------------------+-----------------+-----------------+-----------------+\n",
      "\n"
     ]
    }
   ],
   "source": [
    "train_data.describe().show()"
   ]
  },
  {
   "cell_type": "markdown",
   "metadata": {},
   "source": [
    "### There are too many categories in Ship_name and Cruise_line to be used as a variable"
   ]
  },
  {
   "cell_type": "code",
   "execution_count": 11,
   "metadata": {},
   "outputs": [
    {
     "data": {
      "text/plain": [
       "110"
      ]
     },
     "execution_count": 11,
     "metadata": {},
     "output_type": "execute_result"
    }
   ],
   "source": [
    "train_data.select(\"Ship_name\").distinct().count()"
   ]
  },
  {
   "cell_type": "code",
   "execution_count": 25,
   "metadata": {},
   "outputs": [
    {
     "name": "stdout",
     "output_type": "stream",
     "text": [
      "+------------+\n",
      "|   Ship_name|\n",
      "+------------+\n",
      "|       Virgo|\n",
      "|     Fortuna|\n",
      "|      Shadow|\n",
      "|     Empress|\n",
      "|        Wind|\n",
      "|    Paradise|\n",
      "|        Surf|\n",
      "|      Wonder|\n",
      "|    Sinfonia|\n",
      "| Inspiration|\n",
      "|   Millenium|\n",
      "|PrideofAloha|\n",
      "|     Ventura|\n",
      "|      Spirit|\n",
      "|       Valor|\n",
      "|        Dawn|\n",
      "|     Maasdam|\n",
      "|   Adventure|\n",
      "|    Sovreign|\n",
      "|      Melody|\n",
      "+------------+\n",
      "only showing top 20 rows\n",
      "\n"
     ]
    }
   ],
   "source": [
    "train_data.select(\"Ship_name\").distinct().show()"
   ]
  },
  {
   "cell_type": "code",
   "execution_count": 12,
   "metadata": {},
   "outputs": [
    {
     "data": {
      "text/plain": [
       "19"
      ]
     },
     "execution_count": 12,
     "metadata": {},
     "output_type": "execute_result"
    }
   ],
   "source": [
    "train_data.select(\"Cruise_line\").distinct().count()"
   ]
  },
  {
   "cell_type": "code",
   "execution_count": 26,
   "metadata": {},
   "outputs": [
    {
     "name": "stdout",
     "output_type": "stream",
     "text": [
      "+-----------------+\n",
      "|      Cruise_line|\n",
      "+-----------------+\n",
      "|              P&O|\n",
      "|            Costa|\n",
      "|           Cunard|\n",
      "|Regent_Seven_Seas|\n",
      "|              MSC|\n",
      "|         Carnival|\n",
      "|           Orient|\n",
      "|         Princess|\n",
      "|        Silversea|\n",
      "|         Seabourn|\n",
      "| Holland_American|\n",
      "|         Windstar|\n",
      "|           Disney|\n",
      "|        Norwegian|\n",
      "|          Oceania|\n",
      "|          Azamara|\n",
      "|        Celebrity|\n",
      "|             Star|\n",
      "|  Royal_Caribbean|\n",
      "+-----------------+\n",
      "\n"
     ]
    }
   ],
   "source": [
    "train_data.select(\"Cruise_line\").distinct().show()"
   ]
  },
  {
   "cell_type": "code",
   "execution_count": 13,
   "metadata": {},
   "outputs": [
    {
     "name": "stdout",
     "output_type": "stream",
     "text": [
      "+-----------------+------------------+------------------+------------------+------------------+------------------+----------------------+------------------+\n",
      "|      Cruise_line|          avg(Age)|      avg(Tonnage)|   avg(passengers)|       avg(length)|       avg(cabins)|avg(passenger_density)|         avg(crew)|\n",
      "+-----------------+------------------+------------------+------------------+------------------+------------------+----------------------+------------------+\n",
      "|              P&O|              14.0| 77.85883333333334|20.820000000000004|              8.64| 9.790000000000001|    38.175000000000004| 8.588333333333333|\n",
      "|            Costa|15.428571428571429| 80.51185714285715|20.560000000000002|              8.63| 10.29857142857143|     39.15428571428571| 8.564285714285713|\n",
      "|           Cunard|              27.0|          110.8635|            22.055|10.475000000000001|             10.42|                 48.53|10.870000000000001|\n",
      "|Regent_Seven_Seas|              12.0|              43.0|               6.3| 6.463333333333334|2.6033333333333335|     68.16333333333334| 4.053333333333334|\n",
      "|              MSC|16.571428571428573|53.811142857142855|15.919999999999998| 7.720000000000001| 7.672857142857142|    32.605714285714285| 6.741428571428571|\n",
      "|         Carnival|              15.7|            84.268|             23.68| 8.825500000000002|            11.603|     35.48349999999999|10.169499999999998|\n",
      "|           Orient|              48.0|             22.08|              8.26|              5.78|              4.25|                 26.73|               3.5|\n",
      "|         Princess|13.153846153846153| 84.38792307692309|21.193846153846152|  8.55769230769231|10.343076923076923|    40.803076923076915| 8.930769230769231|\n",
      "|        Silversea|             15.75|              20.9|3.4050000000000002|             5.555|              1.71|                 60.85|            2.4725|\n",
      "|         Seabourn|              24.0|              10.0|              2.08|               4.4|              1.04|    48.080000000000005|1.6000000000000003|\n",
      "| Holland_American|19.181818181818183| 56.02254545454546|13.188181818181818| 7.579090909090909|6.6118181818181805|     42.64909090909091| 5.934545454545455|\n",
      "|         Windstar|              24.0|           10.0475|              2.33|             5.285|              1.15|    40.864999999999995|              1.34|\n",
      "|           Disney|              14.0|              83.0|              17.5|              9.64|              8.75|                 47.43|              9.45|\n",
      "|        Norwegian| 15.11111111111111| 70.06177777777778|19.046666666666667| 8.396666666666668| 9.528888888888888|     36.07222222222222|              8.98|\n",
      "|          Oceania|14.333333333333334|30.276999999999997|              6.84|              5.94|              3.42|                 44.26|               4.0|\n",
      "|          Azamara|               6.0|30.276999999999997|              6.94|              5.94|              3.55|                 42.64|              3.55|\n",
      "|        Celebrity|13.428571428571429| 73.52114285714285| 16.96285714285714| 8.338571428571429| 8.221428571428572|    40.725714285714275|  8.31857142857143|\n",
      "|             Star|              18.6|           36.2574|            11.186|             5.976| 5.832000000000001|                34.634|             6.318|\n",
      "|  Royal_Caribbean|14.277777777777779|102.62344444444443|27.930555555555554|  9.55777777777778|12.501111111111111|     36.49111111111111| 9.537222222222221|\n",
      "+-----------------+------------------+------------------+------------------+------------------+------------------+----------------------+------------------+\n",
      "\n"
     ]
    }
   ],
   "source": [
    "train_data.groupby(\"Cruise_line\").mean().show()"
   ]
  },
  {
   "cell_type": "code",
   "execution_count": 14,
   "metadata": {},
   "outputs": [
    {
     "name": "stdout",
     "output_type": "stream",
     "text": [
      "+-----------------+-----+\n",
      "|      Cruise_line|count|\n",
      "+-----------------+-----+\n",
      "|              P&O|    6|\n",
      "|            Costa|    7|\n",
      "|           Cunard|    2|\n",
      "|Regent_Seven_Seas|    3|\n",
      "|              MSC|    7|\n",
      "|         Carnival|   20|\n",
      "|           Orient|    1|\n",
      "|         Princess|   13|\n",
      "|        Silversea|    4|\n",
      "|         Seabourn|    3|\n",
      "| Holland_American|   11|\n",
      "|         Windstar|    2|\n",
      "|           Disney|    1|\n",
      "|        Norwegian|    9|\n",
      "|          Oceania|    3|\n",
      "|          Azamara|    1|\n",
      "|        Celebrity|    7|\n",
      "|             Star|    5|\n",
      "|  Royal_Caribbean|   18|\n",
      "+-----------------+-----+\n",
      "\n"
     ]
    }
   ],
   "source": [
    "train_data.groupby(\"Cruise_line\").count().show()"
   ]
  },
  {
   "cell_type": "markdown",
   "metadata": {},
   "source": [
    "### Variable Selection Using Correlation"
   ]
  },
  {
   "cell_type": "code",
   "execution_count": 15,
   "metadata": {},
   "outputs": [],
   "source": [
    "from pyspark.ml.linalg import Vectors\n",
    "from pyspark.ml.feature import VectorAssembler\n",
    "from pyspark.ml.stat import Correlation\n",
    "import pandas as pd\n",
    "import matplotlib.pyplot as plt"
   ]
  },
  {
   "cell_type": "code",
   "execution_count": 16,
   "metadata": {},
   "outputs": [],
   "source": [
    "def print_corr_mat(numeric_cols):\n",
    "    assembler = VectorAssembler(inputCols=numeric_cols, outputCol='corr_labels')\n",
    "    corr_data = assembler.transform(train_data)\n",
    "    corr_mat = Correlation.corr(corr_data, 'corr_labels').head()\n",
    "    corr_pddf = pd.DataFrame(data=corr_mat[0].toArray(), index=numeric_cols, columns=numeric_cols)\n",
    "    \n",
    "    sns.heatmap(corr_pddf, annot=True)"
   ]
  },
  {
   "cell_type": "code",
   "execution_count": 17,
   "metadata": {},
   "outputs": [
    {
     "data": {
      "image/png": "[encoded data removed]",
      "text/plain": [
       "<Figure size 432x288 with 2 Axes>"
      ]
     },
     "metadata": {
      "needs_background": "light"
     },
     "output_type": "display_data"
    }
   ],
   "source": [
    "print_corr_mat(['Age', 'Tonnage', 'passengers', 'length', 'cabins', 'passenger_density', 'crew'])"
   ]
  },
  {
   "cell_type": "markdown",
   "metadata": {},
   "source": [
    "#### Age and Cabins are the only viable features due to their correlation with Crew and lack of correlation with other variables"
   ]
  },
  {
   "cell_type": "code",
   "execution_count": 18,
   "metadata": {},
   "outputs": [],
   "source": [
    "no_corr_cols = ['Age', 'cabins']"
   ]
  },
  {
   "cell_type": "code",
   "execution_count": 19,
   "metadata": {},
   "outputs": [
    {
     "data": {
      "image/png": "[encoded data removed]",
      "text/plain": [
       "<Figure size 432x288 with 2 Axes>"
      ]
     },
     "metadata": {
      "needs_background": "light"
     },
     "output_type": "display_data"
    }
   ],
   "source": [
    "print_corr_mat(no_corr_cols)"
   ]
  },
  {
   "cell_type": "code",
   "execution_count": 20,
   "metadata": {},
   "outputs": [],
   "source": [
    "from pyspark.ml.regression import LinearRegression\n",
    "\n",
    "def lr_model(no_corr_cols, train_data, test_data):\n",
    "    assembler = VectorAssembler(inputCols=no_corr_cols, outputCol='features')\n",
    "    \n",
    "    output_train = assembler.transform(train_data)\n",
    "    output_test = assembler.transform(test_data)\n",
    "    \n",
    "    final_train_data = output_train.select('features', 'crew')\n",
    "    final_test_data = output_test.select('features', 'crew')\n",
    " \n",
    "    lr = LinearRegression(labelCol = 'crew')\n",
    "    lr_model = lr.fit(final_train_data)\n",
    "    lr_summary = lr_model.summary\n",
    "    \n",
    "    print('Model Intercept: ', lr_model.intercept)\n",
    "    print('Coefficients:')\n",
    "    \n",
    "    for i,j in zip(no_corr_cols, lr_model.coefficients):\n",
    "        print(i, ':', j)\n",
    "    print()\n",
    "    \n",
    "    print('P-values:')\n",
    "    for i,j in zip(no_corr_cols, lr_summary.pValues):\n",
    "        print(i, ':', j)\n",
    "    print()\n",
    "    \n",
    "    print('Model Performance Training Set:')\n",
    "    train_result = lr_model.evaluate(final_train_data)\n",
    "    print('R-squared:', str(train_result.r2))\n",
    "    print('MAE:', str(train_result.meanAbsoluteError))\n",
    "    \n",
    "    return final_train_data, final_test_data, lr_model"
   ]
  },
  {
   "cell_type": "markdown",
   "metadata": {},
   "source": [
    "### Training Set Performance"
   ]
  },
  {
   "cell_type": "code",
   "execution_count": 21,
   "metadata": {},
   "outputs": [
    {
     "name": "stdout",
     "output_type": "stream",
     "text": [
      "Model Intercept:  1.9479062036037469\n",
      "Coefficients:\n",
      "Age : -0.02938181060505991\n",
      "cabins : 0.7196978330831013\n",
      "\n",
      "P-values:\n",
      "Age : 0.061025326941551716\n",
      "cabins : 0.0\n",
      "\n",
      "Model Performance Training Set:\n",
      "R-squared: 0.8860871808373556\n",
      "MAE: 0.7267728477930536\n"
     ]
    }
   ],
   "source": [
    "final_train_data, final_test_data, lr_model = lr_model(no_corr_cols, train_data, test_data)"
   ]
  },
  {
   "cell_type": "markdown",
   "metadata": {},
   "source": [
    "### Test Set Performance"
   ]
  },
  {
   "cell_type": "code",
   "execution_count": 22,
   "metadata": {},
   "outputs": [],
   "source": [
    "test_result = lr_model.evaluate(final_test_data)"
   ]
  },
  {
   "cell_type": "code",
   "execution_count": 23,
   "metadata": {},
   "outputs": [
    {
     "data": {
      "text/plain": [
       "0.9545471205711188"
      ]
     },
     "execution_count": 23,
     "metadata": {},
     "output_type": "execute_result"
    }
   ],
   "source": [
    "test_result.r2"
   ]
  },
  {
   "cell_type": "code",
   "execution_count": 24,
   "metadata": {},
   "outputs": [
    {
     "data": {
      "text/plain": [
       "0.7333301230730825"
      ]
     },
     "execution_count": 24,
     "metadata": {},
     "output_type": "execute_result"
    }
   ],
   "source": [
    "test_result.meanAbsoluteError"
   ]
  },
  {
   "cell_type": "code",
   "execution_count": null,
   "metadata": {},
   "outputs": [],
   "source": []
  },
  {
   "cell_type": "code",
   "execution_count": null,
   "metadata": {},
   "outputs": [],
   "source": []
  },
  {
   "cell_type": "code",
   "execution_count": null,
   "metadata": {},
   "outputs": [],
   "source": []
  }
 ],
 "metadata": {
  "kernelspec": {
   "display_name": "Python 3",
   "language": "python",
   "name": "python3"
  },
  "language_info": {
   "codemirror_mode": {
    "name": "ipython",
    "version": 3
   },
   "file_extension": ".py",
   "mimetype": "text/x-python",
   "name": "python",
   "nbconvert_exporter": "python",
   "pygments_lexer": "ipython3",
   "version": "3.7.6"
  }
 },
 "nbformat": 4,
 "nbformat_minor": 4
}
