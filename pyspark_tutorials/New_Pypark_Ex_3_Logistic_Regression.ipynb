{
 "cells": [
  {
   "cell_type": "markdown",
   "metadata": {},
   "source": [
    "### Titanic Dataset\n",
    "\n",
    "The sinking of the Titanic is one of the most infamous shipwrecks in history.\n",
    "\n",
    "On April 15, 1912, during her maiden voyage, the widely considered “unsinkable” RMS Titanic sank after colliding with an iceberg. Unfortunately, there weren’t enough lifeboats for everyone onboard, resulting in the death of 1502 out of 2224 passengers and crew.\n",
    "\n",
    "While there was some element of luck involved in surviving, it seems some groups of people were more likely to survive than others.\n",
    "\n",
    "In this challenge, we ask you to build a predictive model that answers the question: “what sorts of people were more likely to survive?” using passenger data (ie name, age, gender, socio-economic class, etc)."
   ]
  },
  {
   "cell_type": "code",
   "execution_count": 1,
   "metadata": {},
   "outputs": [
    {
     "data": {
      "text/html": [
       "<style>.container{width:100% !impotant;}<style>"
      ],
      "text/plain": [
       "<IPython.core.display.HTML object>"
      ]
     },
     "metadata": {},
     "output_type": "display_data"
    }
   ],
   "source": [
    "from IPython.core.display import display, HTML\n",
    "display(HTML(\"<style>.container{width:100% !impotant;}<style>\"))"
   ]
  },
  {
   "cell_type": "markdown",
   "metadata": {},
   "source": [
    "### Start Spark Sesion"
   ]
  },
  {
   "cell_type": "code",
   "execution_count": 2,
   "metadata": {},
   "outputs": [],
   "source": [
    "from pyspark.sql import SparkSession"
   ]
  },
  {
   "cell_type": "code",
   "execution_count": 5,
   "metadata": {},
   "outputs": [],
   "source": [
    "spark = SparkSession.builder.appName('LogRed').getOrCreate()"
   ]
  },
  {
   "cell_type": "markdown",
   "metadata": {},
   "source": [
    "### Read CSV Data"
   ]
  },
  {
   "cell_type": "code",
   "execution_count": 8,
   "metadata": {},
   "outputs": [],
   "source": [
    "df = spark.read.csv('titanic.csv', inferSchema=True, header=True)"
   ]
  },
  {
   "cell_type": "code",
   "execution_count": 9,
   "metadata": {},
   "outputs": [
    {
     "name": "stdout",
     "output_type": "stream",
     "text": [
      "+--------+------+--------------------+------+----+-----------------------+-----------------------+-------+\n",
      "|Survived|Pclass|                Name|   Sex| Age|Siblings/Spouses Aboard|Parents/Children Aboard|   Fare|\n",
      "+--------+------+--------------------+------+----+-----------------------+-----------------------+-------+\n",
      "|       0|     3|Mr. Owen Harris B...|  male|22.0|                      1|                      0|   7.25|\n",
      "|       1|     1|Mrs. John Bradley...|female|38.0|                      1|                      0|71.2833|\n",
      "|       1|     3|Miss. Laina Heikk...|female|26.0|                      0|                      0|  7.925|\n",
      "|       1|     1|Mrs. Jacques Heat...|female|35.0|                      1|                      0|   53.1|\n",
      "|       0|     3|Mr. William Henry...|  male|35.0|                      0|                      0|   8.05|\n",
      "|       0|     3|     Mr. James Moran|  male|27.0|                      0|                      0| 8.4583|\n",
      "|       0|     1|Mr. Timothy J McC...|  male|54.0|                      0|                      0|51.8625|\n",
      "|       0|     3|Master. Gosta Leo...|  male| 2.0|                      3|                      1| 21.075|\n",
      "|       1|     3|Mrs. Oscar W (Eli...|female|27.0|                      0|                      2|11.1333|\n",
      "|       1|     2|Mrs. Nicholas (Ad...|female|14.0|                      1|                      0|30.0708|\n",
      "|       1|     3|Miss. Marguerite ...|female| 4.0|                      1|                      1|   16.7|\n",
      "|       1|     1|Miss. Elizabeth B...|female|58.0|                      0|                      0|  26.55|\n",
      "|       0|     3|Mr. William Henry...|  male|20.0|                      0|                      0|   8.05|\n",
      "|       0|     3|Mr. Anders Johan ...|  male|39.0|                      1|                      5| 31.275|\n",
      "|       0|     3|Miss. Hulda Amand...|female|14.0|                      0|                      0| 7.8542|\n",
      "|       1|     2|Mrs. (Mary D King...|female|55.0|                      0|                      0|   16.0|\n",
      "|       0|     3| Master. Eugene Rice|  male| 2.0|                      4|                      1| 29.125|\n",
      "|       1|     2|Mr. Charles Eugen...|  male|23.0|                      0|                      0|   13.0|\n",
      "|       0|     3|Mrs. Julius (Emel...|female|31.0|                      1|                      0|   18.0|\n",
      "|       1|     3|Mrs. Fatima Masse...|female|22.0|                      0|                      0|  7.225|\n",
      "+--------+------+--------------------+------+----+-----------------------+-----------------------+-------+\n",
      "only showing top 20 rows\n",
      "\n"
     ]
    }
   ],
   "source": [
    "df.show()"
   ]
  },
  {
   "cell_type": "code",
   "execution_count": 10,
   "metadata": {},
   "outputs": [
    {
     "name": "stdout",
     "output_type": "stream",
     "text": [
      "root\n",
      " |-- Survived: integer (nullable = true)\n",
      " |-- Pclass: integer (nullable = true)\n",
      " |-- Name: string (nullable = true)\n",
      " |-- Sex: string (nullable = true)\n",
      " |-- Age: double (nullable = true)\n",
      " |-- Siblings/Spouses Aboard: integer (nullable = true)\n",
      " |-- Parents/Children Aboard: integer (nullable = true)\n",
      " |-- Fare: double (nullable = true)\n",
      "\n"
     ]
    }
   ],
   "source": [
    "df.printSchema()"
   ]
  },
  {
   "cell_type": "markdown",
   "metadata": {},
   "source": [
    "### Select Columns"
   ]
  },
  {
   "cell_type": "code",
   "execution_count": 12,
   "metadata": {},
   "outputs": [],
   "source": [
    "my_cols = df.select(['Survived', 'Pclass', 'Sex', 'Age', 'Siblings/Spouses Aboard', 'Parents/Children Aboard', 'Fare'])"
   ]
  },
  {
   "cell_type": "code",
   "execution_count": 13,
   "metadata": {},
   "outputs": [
    {
     "name": "stdout",
     "output_type": "stream",
     "text": [
      "+-------+-------------------+------------------+------+------------------+-----------------------+-----------------------+-----------------+\n",
      "|summary|           Survived|            Pclass|   Sex|               Age|Siblings/Spouses Aboard|Parents/Children Aboard|             Fare|\n",
      "+-------+-------------------+------------------+------+------------------+-----------------------+-----------------------+-----------------+\n",
      "|  count|                887|               887|   887|               887|                    887|                    887|              887|\n",
      "|   mean| 0.3855693348365276| 2.305524239007892|  null|29.471443066516347|     0.5253664036076663|     0.3833145434047351|32.30542018038328|\n",
      "| stddev|0.48700411775101266|0.8366620036697728|  null|14.121908405462552|      1.104668553867569|     0.8074659070316833|49.78204040017391|\n",
      "|    min|                  0|                 1|female|              0.42|                      0|                      0|              0.0|\n",
      "|    max|                  1|                 3|  male|              80.0|                      8|                      6|         512.3292|\n",
      "+-------+-------------------+------------------+------+------------------+-----------------------+-----------------------+-----------------+\n",
      "\n"
     ]
    }
   ],
   "source": [
    "my_cols.describe().show()"
   ]
  },
  {
   "cell_type": "markdown",
   "metadata": {},
   "source": [
    "### Drop Rows with NA"
   ]
  },
  {
   "cell_type": "code",
   "execution_count": 33,
   "metadata": {},
   "outputs": [],
   "source": [
    "final_data = my_cols.na.drop('all')"
   ]
  },
  {
   "cell_type": "markdown",
   "metadata": {},
   "source": [
    "### Feature Engineering"
   ]
  },
  {
   "cell_type": "code",
   "execution_count": 34,
   "metadata": {},
   "outputs": [],
   "source": [
    "from pyspark.ml.feature import VectorAssembler, VectorIndexer, OneHotEncoder, StringIndexer"
   ]
  },
  {
   "cell_type": "code",
   "execution_count": 44,
   "metadata": {},
   "outputs": [],
   "source": [
    "gender_indexer = StringIndexer(inputCol='Sex', outputCol='SexIndex')\n",
    "gender_encoder = OneHotEncoder(inputCol='SexIndex', outputCol='SexVec')"
   ]
  },
  {
   "cell_type": "code",
   "execution_count": 45,
   "metadata": {},
   "outputs": [],
   "source": [
    "Pclass_encoder = OneHotEncoder(inputCol='Pclass', outputCol='PclassVec')"
   ]
  },
  {
   "cell_type": "code",
   "execution_count": 46,
   "metadata": {},
   "outputs": [],
   "source": [
    "assembler = VectorAssembler(inputCols=['Pclass', 'SexVec', 'Age', 'Siblings/Spouses Aboard', 'Parents/Children Aboard', \n",
    "                                       'Fare'],outputCol='features')"
   ]
  },
  {
   "cell_type": "markdown",
   "metadata": {},
   "source": [
    "### Logistic Regression"
   ]
  },
  {
   "cell_type": "code",
   "execution_count": 47,
   "metadata": {},
   "outputs": [],
   "source": [
    "from pyspark.ml.classification import LogisticRegression"
   ]
  },
  {
   "cell_type": "code",
   "execution_count": 48,
   "metadata": {},
   "outputs": [],
   "source": [
    "log_reg_titanic = LogisticRegression(featuresCol='features', labelCol='Survived')"
   ]
  },
  {
   "cell_type": "markdown",
   "metadata": {},
   "source": [
    "### Spark Pipeline"
   ]
  },
  {
   "cell_type": "code",
   "execution_count": 49,
   "metadata": {},
   "outputs": [],
   "source": [
    "from pyspark.ml import Pipeline"
   ]
  },
  {
   "cell_type": "code",
   "execution_count": 50,
   "metadata": {},
   "outputs": [],
   "source": [
    "pipeline = Pipeline(stages=[gender_indexer, gender_encoder, Pclass_encoder, assembler, log_reg_titanic])"
   ]
  },
  {
   "cell_type": "markdown",
   "metadata": {},
   "source": [
    "### Split Data into Train and Test"
   ]
  },
  {
   "cell_type": "code",
   "execution_count": 51,
   "metadata": {},
   "outputs": [],
   "source": [
    "train_data, test_data = final_data.randomSplit([.8, .2])"
   ]
  },
  {
   "cell_type": "code",
   "execution_count": 52,
   "metadata": {},
   "outputs": [],
   "source": [
    "fit_model = pipeline.fit(train_data)"
   ]
  },
  {
   "cell_type": "code",
   "execution_count": 54,
   "metadata": {},
   "outputs": [],
   "source": [
    "results = fit_model.transform(test_data)"
   ]
  },
  {
   "cell_type": "markdown",
   "metadata": {},
   "source": [
    "### Evaluate Model"
   ]
  },
  {
   "cell_type": "code",
   "execution_count": 56,
   "metadata": {},
   "outputs": [],
   "source": [
    "from pyspark.ml.evaluation import BinaryClassificationEvaluator, MulticlassClassificationEvaluator"
   ]
  },
  {
   "cell_type": "code",
   "execution_count": 63,
   "metadata": {},
   "outputs": [],
   "source": [
    "bi_eval = BinaryClassificationEvaluator(rawPredictionCol='prediction', labelCol='Survived')\n",
    "multi_eval_f1 = MulticlassClassificationEvaluator(predictionCol='prediction', labelCol='Survived', metricName='f1')\n",
    "multi_eval_acc = MulticlassClassificationEvaluator(predictionCol = 'prediction', labelCol='Survived', metricName='accuracy')"
   ]
  },
  {
   "cell_type": "code",
   "execution_count": 64,
   "metadata": {},
   "outputs": [],
   "source": [
    "results = results.select('Survived', 'prediction')"
   ]
  },
  {
   "cell_type": "markdown",
   "metadata": {},
   "source": [
    "### AUC"
   ]
  },
  {
   "cell_type": "code",
   "execution_count": 65,
   "metadata": {},
   "outputs": [
    {
     "data": {
      "text/plain": [
       "0.754509697545097"
      ]
     },
     "execution_count": 65,
     "metadata": {},
     "output_type": "execute_result"
    }
   ],
   "source": [
    "bi_eval.evaluate(results)"
   ]
  },
  {
   "cell_type": "markdown",
   "metadata": {},
   "source": [
    "### F1"
   ]
  },
  {
   "cell_type": "code",
   "execution_count": 66,
   "metadata": {},
   "outputs": [
    {
     "data": {
      "text/plain": [
       "0.767085103397247"
      ]
     },
     "execution_count": 66,
     "metadata": {},
     "output_type": "execute_result"
    }
   ],
   "source": [
    "multi_eval_f1.evaluate(results)"
   ]
  },
  {
   "cell_type": "markdown",
   "metadata": {},
   "source": [
    "### Accuracy"
   ]
  },
  {
   "cell_type": "code",
   "execution_count": 67,
   "metadata": {},
   "outputs": [
    {
     "data": {
      "text/plain": [
       "0.7701149425287356"
      ]
     },
     "execution_count": 67,
     "metadata": {},
     "output_type": "execute_result"
    }
   ],
   "source": [
    "multi_eval_acc.evaluate(results)"
   ]
  },
  {
   "cell_type": "markdown",
   "metadata": {},
   "source": [
    "### End Spark Session"
   ]
  },
  {
   "cell_type": "code",
   "execution_count": 68,
   "metadata": {},
   "outputs": [],
   "source": [
    "spark.stop()"
   ]
  },
  {
   "cell_type": "code",
   "execution_count": null,
   "metadata": {},
   "outputs": [],
   "source": []
  }
 ],
 "metadata": {
  "kernelspec": {
   "display_name": "Python 3",
   "language": "python",
   "name": "python3"
  },
  "language_info": {
   "codemirror_mode": {
    "name": "ipython",
    "version": 3
   },
   "file_extension": ".py",
   "mimetype": "text/x-python",
   "name": "python",
   "nbconvert_exporter": "python",
   "pygments_lexer": "ipython3",
   "version": "3.7.6"
  }
 },
 "nbformat": 4,
 "nbformat_minor": 4
}
